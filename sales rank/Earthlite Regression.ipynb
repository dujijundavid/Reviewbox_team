{
 "cells": [
  {
   "cell_type": "markdown",
   "metadata": {},
   "source": [
    "# Documentation:\n",
    "## Objective:\n",
    "Find variables that helps to explain product Salesrank in Amazon\n",
    "\n",
    "## What things this notebook has done?\n",
    "Change tabular data into item-wise dictionary\n",
    "\n",
    "Metrics generation:\n",
    "\n",
    "Calculation: aggregation metrics (Average ratings)\n",
    "Date: time metrics\n",
    "Text: average word count\n",
    "Regression basedline model\n",
    "\n",
    "## What's the dataset about?\n",
    "Earthlite's product reviews data from Amazon\n",
    "Sales Rank of Earthlite products under different categories\n",
    "\n",
    "## Run time\n",
    "\n",
    "## Common bugs:\n",
    "\n",
    "## Below are detailed code chunks\n",
    "\n",
    "# Part 1: Setup working environment & Dataset\n",
    "Load sales rank & review dataset for Earthlite product"
   ]
  },
  {
   "cell_type": "code",
   "execution_count": 1,
   "metadata": {},
   "outputs": [],
   "source": [
    "debug=True\n",
    "option=2"
   ]
  },
  {
   "cell_type": "code",
   "execution_count": 2,
   "metadata": {},
   "outputs": [],
   "source": [
    "import pandas as pd\n",
    "import numpy as np\n",
    "import math\n",
    "import matplotlib.pyplot as plt\n",
    "import seaborn as sns\n",
    "import datetime\n",
    "\n",
    "#!pip install quilt\n",
    "#!quilt install ResidentMario/missingno_data\n",
    "from quilt.data.ResidentMario import missingno_data\n",
    "\n",
    "%matplotlib inline"
   ]
  },
  {
   "cell_type": "code",
   "execution_count": 3,
   "metadata": {},
   "outputs": [
    {
     "name": "stderr",
     "output_type": "stream",
     "text": [
      "/Users/yvettepeng/anaconda3/lib/python3.7/site-packages/IPython/core/interactiveshell.py:3057: DtypeWarning: Columns (1) have mixed types. Specify dtype option on import or set low_memory=False.\n",
      "  interactivity=interactivity, compiler=compiler, result=result)\n"
     ]
    }
   ],
   "source": [
    "# Earthlite review data\n",
    "hmr = pd.read_csv('Earthlite Reviews.csv')\n",
    "# Earthlite sales rank data\n",
    "hmsr = pd.read_csv('Earthlite Sales Rank.csv')\n",
    "# Earthlite questions data\n",
    "hmq = pd.read_csv('Earthlite Questions.csv')\n",
    "# Earthlite price data\n",
    "hmp = pd.read_csv('Earthlite Price.csv')"
   ]
  },
  {
   "cell_type": "code",
   "execution_count": 4,
   "metadata": {},
   "outputs": [
    {
     "data": {
      "text/plain": [
       "Index(['source', 'product', 'Brand_custom', 'COLOR_custom', 'Category_custom',\n",
       "       'Country_custom', 'Name_custom', 'UPC_custom', 'model_number_custom',\n",
       "       'name', 'date', 'status', 'sentiment', 'topic', 'notes', 'author',\n",
       "       'verified', 'vine', 'stars', 'pvotes', 'tvotes', 'title', 'text',\n",
       "       'image', 'video', 'reviewid', 'reviewlink', 'parent', 'statusdt',\n",
       "       'statustime', 'helpfulcount', 'commenttext', 'commentauthor',\n",
       "       'officialcomment', 'totalcomments', 'commentts', 'commentdatestring',\n",
       "       'inputtime'],\n",
       "      dtype='object')"
      ]
     },
     "execution_count": 4,
     "metadata": {},
     "output_type": "execute_result"
    }
   ],
   "source": [
    "hmr.columns"
   ]
  },
  {
   "cell_type": "code",
   "execution_count": 5,
   "metadata": {},
   "outputs": [
    {
     "data": {
      "text/plain": [
       "Index(['source', 'id', 'COLOR_custom', 'Name_custom', 'model_number_custom',\n",
       "       'start_ts', 'end_ts', 'date', 'category_id1', 'category_name1',\n",
       "       'category_rank1', 'category_id2', 'category_name2', 'category_rank2',\n",
       "       'category_id3', 'category_name3', 'category_rank3'],\n",
       "      dtype='object')"
      ]
     },
     "execution_count": 5,
     "metadata": {},
     "output_type": "execute_result"
    }
   ],
   "source": [
    "hmsr.columns"
   ]
  },
  {
   "cell_type": "code",
   "execution_count": 6,
   "metadata": {},
   "outputs": [
    {
     "data": {
      "text/html": [
       "<div>\n",
       "<style scoped>\n",
       "    .dataframe tbody tr th:only-of-type {\n",
       "        vertical-align: middle;\n",
       "    }\n",
       "\n",
       "    .dataframe tbody tr th {\n",
       "        vertical-align: top;\n",
       "    }\n",
       "\n",
       "    .dataframe thead th {\n",
       "        text-align: right;\n",
       "    }\n",
       "</style>\n",
       "<table border=\"1\" class=\"dataframe\">\n",
       "  <thead>\n",
       "    <tr style=\"text-align: right;\">\n",
       "      <th></th>\n",
       "      <th>category_id1</th>\n",
       "      <th>id</th>\n",
       "    </tr>\n",
       "  </thead>\n",
       "  <tbody>\n",
       "    <tr>\n",
       "      <td>7</td>\n",
       "      <td>beauty/7792506011</td>\n",
       "      <td>177</td>\n",
       "    </tr>\n",
       "    <tr>\n",
       "      <td>6</td>\n",
       "      <td>beauty/16302991</td>\n",
       "      <td>88</td>\n",
       "    </tr>\n",
       "    <tr>\n",
       "      <td>3</td>\n",
       "      <td>beauty/15144892011</td>\n",
       "      <td>17</td>\n",
       "    </tr>\n",
       "    <tr>\n",
       "      <td>2</td>\n",
       "      <td>beauty/15144890011</td>\n",
       "      <td>13</td>\n",
       "    </tr>\n",
       "    <tr>\n",
       "      <td>4</td>\n",
       "      <td>beauty/16302961</td>\n",
       "      <td>8</td>\n",
       "    </tr>\n",
       "    <tr>\n",
       "      <td>1</td>\n",
       "      <td>beauty/15144566011</td>\n",
       "      <td>6</td>\n",
       "    </tr>\n",
       "    <tr>\n",
       "      <td>8</td>\n",
       "      <td>home-garden/16351481</td>\n",
       "      <td>3</td>\n",
       "    </tr>\n",
       "    <tr>\n",
       "      <td>10</td>\n",
       "      <td>lawn-garden/1272941011</td>\n",
       "      <td>3</td>\n",
       "    </tr>\n",
       "    <tr>\n",
       "      <td>0</td>\n",
       "      <td>beauty/15003720011</td>\n",
       "      <td>2</td>\n",
       "    </tr>\n",
       "    <tr>\n",
       "      <td>5</td>\n",
       "      <td>beauty/16302971</td>\n",
       "      <td>2</td>\n",
       "    </tr>\n",
       "    <tr>\n",
       "      <td>9</td>\n",
       "      <td>hpc/3776831</td>\n",
       "      <td>1</td>\n",
       "    </tr>\n",
       "  </tbody>\n",
       "</table>\n",
       "</div>"
      ],
      "text/plain": [
       "              category_id1   id\n",
       "7        beauty/7792506011  177\n",
       "6          beauty/16302991   88\n",
       "3       beauty/15144892011   17\n",
       "2       beauty/15144890011   13\n",
       "4          beauty/16302961    8\n",
       "1       beauty/15144566011    6\n",
       "8     home-garden/16351481    3\n",
       "10  lawn-garden/1272941011    3\n",
       "0       beauty/15003720011    2\n",
       "5          beauty/16302971    2\n",
       "9              hpc/3776831    1"
      ]
     },
     "execution_count": 6,
     "metadata": {},
     "output_type": "execute_result"
    }
   ],
   "source": [
    "# select one product category that has most products\n",
    "hmsr.groupby(by='category_id1', as_index=False).agg({'id': pd.Series.nunique}).sort_values(by = 'id', ascending=False)"
   ]
  },
  {
   "cell_type": "code",
   "execution_count": 8,
   "metadata": {},
   "outputs": [
    {
     "data": {
      "text/html": [
       "<div>\n",
       "<style scoped>\n",
       "    .dataframe tbody tr th:only-of-type {\n",
       "        vertical-align: middle;\n",
       "    }\n",
       "\n",
       "    .dataframe tbody tr th {\n",
       "        vertical-align: top;\n",
       "    }\n",
       "\n",
       "    .dataframe thead th {\n",
       "        text-align: right;\n",
       "    }\n",
       "</style>\n",
       "<table border=\"1\" class=\"dataframe\">\n",
       "  <thead>\n",
       "    <tr style=\"text-align: right;\">\n",
       "      <th></th>\n",
       "      <th>category_rank1</th>\n",
       "    </tr>\n",
       "    <tr>\n",
       "      <th>id</th>\n",
       "      <th></th>\n",
       "    </tr>\n",
       "  </thead>\n",
       "  <tbody>\n",
       "    <tr>\n",
       "      <td>B0016JL1C0</td>\n",
       "      <td>503.289346</td>\n",
       "    </tr>\n",
       "    <tr>\n",
       "      <td>B0016JJH4E</td>\n",
       "      <td>449.689458</td>\n",
       "    </tr>\n",
       "    <tr>\n",
       "      <td>B0016JKZAE</td>\n",
       "      <td>436.065940</td>\n",
       "    </tr>\n",
       "    <tr>\n",
       "      <td>B0016JN0PQ</td>\n",
       "      <td>379.597161</td>\n",
       "    </tr>\n",
       "    <tr>\n",
       "      <td>B0016JJIAM</td>\n",
       "      <td>378.196900</td>\n",
       "    </tr>\n",
       "    <tr>\n",
       "      <td>B0016JN0MO</td>\n",
       "      <td>354.134819</td>\n",
       "    </tr>\n",
       "    <tr>\n",
       "      <td>B0016JIEJS</td>\n",
       "      <td>298.847093</td>\n",
       "    </tr>\n",
       "    <tr>\n",
       "      <td>B0016JJIS4</td>\n",
       "      <td>285.971439</td>\n",
       "    </tr>\n",
       "    <tr>\n",
       "      <td>B0016JJIZ2</td>\n",
       "      <td>282.530437</td>\n",
       "    </tr>\n",
       "    <tr>\n",
       "      <td>B0016JKZIG</td>\n",
       "      <td>277.618437</td>\n",
       "    </tr>\n",
       "  </tbody>\n",
       "</table>\n",
       "</div>"
      ],
      "text/plain": [
       "            category_rank1\n",
       "id                        \n",
       "B0016JL1C0      503.289346\n",
       "B0016JJH4E      449.689458\n",
       "B0016JKZAE      436.065940\n",
       "B0016JN0PQ      379.597161\n",
       "B0016JJIAM      378.196900\n",
       "B0016JN0MO      354.134819\n",
       "B0016JIEJS      298.847093\n",
       "B0016JJIS4      285.971439\n",
       "B0016JJIZ2      282.530437\n",
       "B0016JKZIG      277.618437"
      ]
     },
     "execution_count": 8,
     "metadata": {},
     "output_type": "execute_result"
    }
   ],
   "source": [
    "# Select 10 option 1 products\n",
    "hmsr[hmsr['category_id1'] == 'beauty/7792506011'][['id', 'category_rank1']].drop_duplicates().groupby('id').std().sort_values(by = 'category_rank1', ascending = False).head(10)"
   ]
  },
  {
   "cell_type": "code",
   "execution_count": 9,
   "metadata": {},
   "outputs": [
    {
     "data": {
      "text/html": [
       "<div>\n",
       "<style scoped>\n",
       "    .dataframe tbody tr th:only-of-type {\n",
       "        vertical-align: middle;\n",
       "    }\n",
       "\n",
       "    .dataframe tbody tr th {\n",
       "        vertical-align: top;\n",
       "    }\n",
       "\n",
       "    .dataframe thead th {\n",
       "        text-align: right;\n",
       "    }\n",
       "</style>\n",
       "<table border=\"1\" class=\"dataframe\">\n",
       "  <thead>\n",
       "    <tr style=\"text-align: right;\">\n",
       "      <th></th>\n",
       "      <th>product</th>\n",
       "      <th>reviewid</th>\n",
       "    </tr>\n",
       "    <tr>\n",
       "      <th>product</th>\n",
       "      <th></th>\n",
       "      <th></th>\n",
       "    </tr>\n",
       "  </thead>\n",
       "  <tbody>\n",
       "    <tr>\n",
       "      <td>B004GG9ECY</td>\n",
       "      <td>1</td>\n",
       "      <td>190</td>\n",
       "    </tr>\n",
       "    <tr>\n",
       "      <td>B00122GAJK</td>\n",
       "      <td>1</td>\n",
       "      <td>180</td>\n",
       "    </tr>\n",
       "    <tr>\n",
       "      <td>B00122NEIA</td>\n",
       "      <td>1</td>\n",
       "      <td>109</td>\n",
       "    </tr>\n",
       "    <tr>\n",
       "      <td>B00122I6UQ</td>\n",
       "      <td>1</td>\n",
       "      <td>74</td>\n",
       "    </tr>\n",
       "    <tr>\n",
       "      <td>B004GG62TM</td>\n",
       "      <td>1</td>\n",
       "      <td>68</td>\n",
       "    </tr>\n",
       "    <tr>\n",
       "      <td>B00122JEFC</td>\n",
       "      <td>1</td>\n",
       "      <td>68</td>\n",
       "    </tr>\n",
       "    <tr>\n",
       "      <td>B00BG84X26</td>\n",
       "      <td>1</td>\n",
       "      <td>63</td>\n",
       "    </tr>\n",
       "    <tr>\n",
       "      <td>B004GG9R8K</td>\n",
       "      <td>1</td>\n",
       "      <td>45</td>\n",
       "    </tr>\n",
       "    <tr>\n",
       "      <td>B00122JEF2</td>\n",
       "      <td>1</td>\n",
       "      <td>42</td>\n",
       "    </tr>\n",
       "    <tr>\n",
       "      <td>B00122JD6W</td>\n",
       "      <td>1</td>\n",
       "      <td>40</td>\n",
       "    </tr>\n",
       "  </tbody>\n",
       "</table>\n",
       "</div>"
      ],
      "text/plain": [
       "            product  reviewid\n",
       "product                      \n",
       "B004GG9ECY        1       190\n",
       "B00122GAJK        1       180\n",
       "B00122NEIA        1       109\n",
       "B00122I6UQ        1        74\n",
       "B004GG62TM        1        68\n",
       "B00122JEFC        1        68\n",
       "B00BG84X26        1        63\n",
       "B004GG9R8K        1        45\n",
       "B00122JEF2        1        42\n",
       "B00122JD6W        1        40"
      ]
     },
     "execution_count": 9,
     "metadata": {},
     "output_type": "execute_result"
    }
   ],
   "source": [
    "## select 10 option 2 products\n",
    "hmr[hmr['product'].isin(hmsr[hmsr['category_id1'] == 'beauty/7792506011']['id'].unique())][['product','reviewid']].groupby('product').nunique().sort_values(by = 'reviewid', ascending = False).head(10)"
   ]
  },
  {
   "cell_type": "markdown",
   "metadata": {},
   "source": [
    "# Options for modeling:\n",
    "Group 1: more variability\n",
    "Group 2: most reviews records\n",
    "Must under missing_value check"
   ]
  },
  {
   "cell_type": "code",
   "execution_count": 10,
   "metadata": {},
   "outputs": [],
   "source": [
    "if(option==1):\n",
    "    # more reviews and highly variant sales rank\n",
    "    common = ['B0016JL1C0',\n",
    "             'B0016JJH4E',\n",
    "             'B0016JKZAE',\n",
    "             'B0016JN0PQ',\n",
    "             'B0016JJIAM',\n",
    "             'B0016JN0MO',\n",
    "             'B0016JIEJS',\n",
    "             'B0016JJIS4',\n",
    "             'B0016JJIZ2',\n",
    "            'B0016JKZIG']\n",
    "elif(option==2):\n",
    "    # products with most reviews\n",
    "    common=['B004GG9ECY', \n",
    "         'B00122GAJK', \n",
    "         'B00122NEIA', \n",
    "         'B00122I6UQ',\n",
    "         'B004GG62TM',\n",
    "         'B00122JEFC',\n",
    "           'B00BG84X26',\n",
    "           'B004GG9R8K',\n",
    "           'B00122JEF2',\n",
    "           'B00122JD6W']\n",
    "else:\n",
    "    pass"
   ]
  },
  {
   "cell_type": "code",
   "execution_count": 11,
   "metadata": {},
   "outputs": [],
   "source": [
    "if(debug):\n",
    "    hmsr2 = hmsr[hmsr['id'].isin(common)].set_index('id',drop=True)\n",
    "    #hmsr = hmsr.set_index('id',drop = True)\n",
    "    hmr2 = hmr[hmr['product'].isin(common)].set_index('product',drop=True)\n",
    "    hmp2 = hmp[hmp['id'].isin(common)].set_index('id',drop=True)\n",
    "else:\n",
    "    hmsr2 = hmsr.set_index('id',drop = True)\n",
    "    # Same as above, create another dictionary for review data\n",
    "    hmr2 = hmr.set_index('product',drop = True)\n",
    "    hmp2 = hmp.set_index('id',drop=True)"
   ]
  },
  {
   "cell_type": "markdown",
   "metadata": {},
   "source": [
    "### Transform into key-value pairs by each unique product ID\n",
    "To make aggregation on review ratings, we need details on each product"
   ]
  },
  {
   "cell_type": "code",
   "execution_count": 12,
   "metadata": {},
   "outputs": [
    {
     "name": "stderr",
     "output_type": "stream",
     "text": [
      "/Users/yvettepeng/anaconda3/lib/python3.7/site-packages/pandas/core/indexing.py:1418: FutureWarning: \n",
      "Passing list-likes to .loc or [] with any missing label will raise\n",
      "KeyError in the future, you can use .reindex() as an alternative.\n",
      "\n",
      "See the documentation here:\n",
      "https://pandas.pydata.org/pandas-docs/stable/user_guide/indexing.html#deprecate-loc-reindex-listlike\n",
      "  return self._getitem_tuple(key)\n"
     ]
    }
   ],
   "source": [
    "# create a dictionary to store the information for each product. Each product represents one element of the dictionary.\n",
    "hmsr_dict = {}\n",
    "for i in hmsr2.index.unique():\n",
    "    hmsr_dict[i] = hmsr2.loc[i, ['source','date', 'category_id1',\n",
    "       'category_name1', 'category_rank1', 'category_id2', 'category_name2',\n",
    "       'category_rank2', 'category_id3', 'category_name3', 'category_rank3',\n",
    "       'category_id4', 'category_name4', 'category_rank4']]"
   ]
  },
  {
   "cell_type": "code",
   "execution_count": 13,
   "metadata": {},
   "outputs": [
    {
     "data": {
      "text/plain": [
       "'B00122GAJK'"
      ]
     },
     "execution_count": 13,
     "metadata": {},
     "output_type": "execute_result"
    }
   ],
   "source": [
    "item_list=list(hmsr_dict.keys())\n",
    "item_list[1]"
   ]
  },
  {
   "cell_type": "markdown",
   "metadata": {},
   "source": [
    "### Features Time based rank Features\n",
    "* log_rank \n",
    "* delta_rank\n",
    "* date"
   ]
  },
  {
   "cell_type": "markdown",
   "metadata": {},
   "source": [
    "#### Sales rank dataset"
   ]
  },
  {
   "cell_type": "code",
   "execution_count": 14,
   "metadata": {},
   "outputs": [],
   "source": [
    "for i in hmsr_dict:\n",
    "    if type(hmsr_dict[i]) != pd.core.series.Series:\n",
    "        hmsr_dict[i] = hmsr_dict[i].sort_values('date').reset_index()\n",
    "        hmsr_dict[i].drop_duplicates(inplace = True)\n",
    "        hmsr_dict[i]['new_date'] = pd.to_datetime(hmsr_dict[i]['date'])\n",
    "        hmsr_dict[i]['log_rank'] = hmsr_dict[i]['category_rank1'].map(lambda x: math.log(x))\n",
    "        hmsr_dict[i]['delta_rank'] = hmsr_dict[i]['log_rank'].diff()\n",
    "        a = hmsr_dict[i].index[0]\n",
    "        hmsr_dict[i].drop(a, inplace = True)\n",
    "        hmsr_dict[i]['new_date'] = hmsr_dict[i]['new_date'].dt.strftime('%Y-%m-%d')\n",
    "        hmsr_dict[i]['new_date'] = pd.to_datetime(hmsr_dict[i]['new_date'])"
   ]
  },
  {
   "cell_type": "code",
   "execution_count": 15,
   "metadata": {},
   "outputs": [],
   "source": [
    "for i in hmsr_dict:\n",
    "    if type(hmsr_dict[i]) != pd.core.series.Series:\n",
    "        hmsr_dict[i] = hmsr_dict[i].reset_index(drop = True)"
   ]
  },
  {
   "cell_type": "markdown",
   "metadata": {},
   "source": [
    "#### Review dataset"
   ]
  },
  {
   "cell_type": "code",
   "execution_count": 16,
   "metadata": {},
   "outputs": [],
   "source": [
    "hmr_dict = {}\n",
    "for i in hmr2.index.unique():\n",
    "    hmr_dict[i] = hmr2.loc[i, ['source','date','author', 'verified', 'vine', 'stars', 'pvotes', 'tvotes',\n",
    "       'title', 'text', 'image', 'video']]"
   ]
  },
  {
   "cell_type": "code",
   "execution_count": 17,
   "metadata": {},
   "outputs": [],
   "source": [
    "for i in hmr_dict:\n",
    "    if type(hmr_dict[i]) != pd.core.series.Series:\n",
    "        hmr_dict[i] = hmr_dict[i].sort_values('date').reset_index()\n",
    "        hmr_dict[i].drop_duplicates(inplace = True)\n",
    "        hmr_dict[i]['date'] = pd.to_datetime(hmr_dict[i]['date'])\n",
    "        hmr_dict[i]['date'] = hmr_dict[i]['date'].dt.strftime('%Y-%m-%d')\n",
    "        hmr_dict[i]['date'] = pd.to_datetime(hmr_dict[i]['date'])"
   ]
  },
  {
   "cell_type": "code",
   "execution_count": 18,
   "metadata": {},
   "outputs": [],
   "source": [
    "for i in hmr_dict:\n",
    "    if type(hmr_dict[i]) != pd.core.series.Series:\n",
    "        hmr_dict[i] = hmr_dict[i].reset_index(drop = True)"
   ]
  },
  {
   "cell_type": "markdown",
   "metadata": {},
   "source": [
    "#### Price dataset"
   ]
  },
  {
   "cell_type": "code",
   "execution_count": 19,
   "metadata": {},
   "outputs": [],
   "source": [
    "hmp_dict = {}\n",
    "for i in hmp2.index.unique():\n",
    "    hmp_dict[i] = hmp2.loc[i, ['id','buyboxtime','price',\n",
    "       'high', 'low', 'stock', 'merchant','prime','subscribe',\n",
    "       'pantry', 'addon', 'min', 'max', 'mapviolation', 'sellers',\n",
    "       'Category_custom', 'Subcategory_custom']]"
   ]
  },
  {
   "cell_type": "code",
   "execution_count": 20,
   "metadata": {},
   "outputs": [],
   "source": [
    "for i in hmp_dict:\n",
    "    if type(hmp_dict[i]) != pd.core.series.Series:\n",
    "        hmp_dict[i] = hmp_dict[i].drop(labels = 'id', axis = 1)\n",
    "        hmp_dict[i] = hmp_dict[i].sort_values('buyboxtime').reset_index()\n",
    "        hmp_dict[i].drop_duplicates(inplace = True)\n",
    "        hmp_dict[i]['date'] = pd.to_datetime(hmp_dict[i]['buyboxtime'])\n",
    "        hmp_dict[i]['date'] = hmp_dict[i]['date'].dt.strftime('%Y-%m-%d')\n",
    "        hmp_dict[i]['date'] = pd.to_datetime(hmp_dict[i]['date'])"
   ]
  },
  {
   "cell_type": "markdown",
   "metadata": {},
   "source": [
    "### 2.1 Feature group: aggregated features"
   ]
  },
  {
   "cell_type": "code",
   "execution_count": 22,
   "metadata": {},
   "outputs": [],
   "source": [
    "# Now that we have created two dictionaries, next we are going to do the aggregation\n",
    "for i in hmsr_dict:\n",
    "    if i in hmr_dict:\n",
    "        for j in hmsr_dict[i].index.unique():\n",
    "            if type(hmr_dict[i]) != pd.core.series.Series:\n",
    "                hmsr_dict[i].loc[j, \"stars_recent_10\"] = hmr_dict[i][hmr_dict[i]['date'] <= hmsr_dict[i].loc[j, 'date']].tail(10)['stars'].mean()"
   ]
  },
  {
   "cell_type": "code",
   "execution_count": 23,
   "metadata": {},
   "outputs": [],
   "source": [
    "for i in hmsr_dict:\n",
    "    if i in hmr_dict:\n",
    "        for j in hmsr_dict[i].index.unique():\n",
    "            if type(hmr_dict[i]) != pd.core.series.Series:\n",
    "                hmsr_dict[i].loc[j, 'stars_recent_oneweek'] = hmr_dict[i][(hmr_dict[i]['date'] <= \n",
    "                                                                           hmsr_dict[i].loc[j, 'new_date']) & (hmr_dict[i]['date'] >= (hmsr_dict[i].loc[j,'new_date'] - datetime.timedelta(days = 6)))]['stars'].mean()\n",
    "                \n",
    "                \n",
    "                hmsr_dict[i].loc[j, 'stars_recent_onemonth'] = hmr_dict[i][(hmr_dict[i]['date'] <= \n",
    "                                                                          hmsr_dict[i].loc[j, 'new_date']) & (hmr_dict[i]['date'] >= (hmsr_dict[i].loc[j,'new_date'] - datetime.timedelta(days = 29)))]['stars'].mean()\n",
    "                \n",
    "                \n",
    "                hmsr_dict[i].loc[j, 'stars_avg'] = hmr_dict[i][hmr_dict[i]['date'] <= hmsr_dict[i].loc[j, 'new_date']]['stars'].mean()\n",
    "                \n",
    "                hmsr_dict[i].loc[j, 'review_acc'] = hmr_dict[i][hmr_dict[i]['date'] <= hmsr_dict[i].loc[j, 'new_date']]['date'].count()\n",
    "                \n",
    "                hmsr_dict[i].loc[j, 'reviewnum_oneweek'] = hmr_dict[i][(hmr_dict[i]['date'] <= \n",
    "                                                                          hmsr_dict[i].loc[j, 'new_date']) & (hmr_dict[i]['date'] >= (hmsr_dict[i].loc[j,'new_date'] - datetime.timedelta(days = 6)))]['date'].count()\n",
    "                \n",
    "                \n",
    "                hmsr_dict[i].loc[j, 'reviewnum_onemonth'] = hmr_dict[i][(hmr_dict[i]['date'] <= \n",
    "                                                                          hmsr_dict[i].loc[j, 'new_date']) & (hmr_dict[i]['date'] >= (hmsr_dict[i].loc[j,'new_date'] - datetime.timedelta(days = 29)))]['date'].count()\n",
    "                hmsr_dict[i].loc[j, 'author_acc'] = hmr_dict[i][(hmr_dict[i]['date'] <= hmsr_dict[i].loc[j,'new_date']) & \n",
    "                                                (hmr_dict[i]['author'].str.contains('Customer') == False) & (hmr_dict[i]['author'].str.contains('customer') == False)]['date'].count() /  hmr_dict[i][hmr_dict[i]['date'] <= hmsr_dict[i].loc[j,'new_date']]['date'].count()\n",
    "                hmsr_dict[i].loc[j, 'num_1_month'] = hmr_dict[i][(hmr_dict[i]['date'] <= \n",
    "                                                                          hmsr_dict[i].loc[j, 'date']) & (hmr_dict[i]['date'] >= (hmsr_dict[i].loc[j,'new_date'] - datetime.timedelta(days = 29))) & (hmr_dict[i]['stars'] == 1)]['date'].count()\n",
    "                hmsr_dict[i].loc[j, 'num_5_month'] = hmr_dict[i][(hmr_dict[i]['date'] <= \n",
    "                                                                          hmsr_dict[i].loc[j, 'date']) & (hmr_dict[i]['date'] >= (hmsr_dict[i].loc[j,'new_date'] - datetime.timedelta(days = 29))) & (hmr_dict[i]['stars'] == 5)]['date'].count()\n",
    "                "
   ]
  },
  {
   "cell_type": "markdown",
   "metadata": {},
   "source": [
    "### 2.2 Text related Features:\n",
    "* average word count"
   ]
  },
  {
   "cell_type": "code",
   "execution_count": 24,
   "metadata": {},
   "outputs": [],
   "source": [
    "# of words in the reviews\n",
    "# Generate a new column: average word count of review that happen on the same sales rank day\n",
    "# for i in df_review2.index.unique():\n",
    "#     df_review2.loc[i,'word_count'] = df_review2.loc[i,'text'].count(' ') + 1\n",
    "  \n",
    "for i in hmsr_dict:\n",
    "    try:\n",
    "        if i in hmr_dict:\n",
    "            for j in hmsr_dict[i].index.unique():\n",
    "                if type(hmr_dict[i]) != pd.core.series.Series:\n",
    "                    hmsr_dict[i].loc[j, 'avg_word_count'] = hmr_dict[i][hmr_dict[i]['date'] <= hmsr_dict[i].loc[j, 'date']]['text'].apply(lambda x: x.count(' ')+1).mean()\n",
    "                    hmsr_dict[i].loc[j, 'avg_word_count_10'] = hmr_dict[i][hmr_dict[i]['date'] <= hmsr_dict[i].loc[j, 'date']].tail(10)['text'].apply(lambda x: x.count(' ')+1).mean()        \n",
    "    except:\n",
    "        continue   "
   ]
  },
  {
   "cell_type": "markdown",
   "metadata": {},
   "source": [
    "### 2.3 Features: reviewer status\n",
    "* all: count of varified_account reviews \n",
    "* past one week: count of varified_account reviews"
   ]
  },
  {
   "cell_type": "code",
   "execution_count": 25,
   "metadata": {},
   "outputs": [
    {
     "name": "stderr",
     "output_type": "stream",
     "text": [
      "/Users/yvettepeng/anaconda3/lib/python3.7/site-packages/ipykernel_launcher.py:9: RuntimeWarning: invalid value encountered in long_scalars\n",
      "  if __name__ == '__main__':\n"
     ]
    }
   ],
   "source": [
    "for i in hmsr_dict:\n",
    "    if i in hmr_dict:\n",
    "        for j in hmsr_dict[i].index.unique():\n",
    "            if type(hmr_dict[i]) != pd.core.series.Series:\n",
    "                hmsr_dict[i].loc[j, 'verified_acc'] = (hmr_dict[i][(hmr_dict[i]['date'] <= hmsr_dict[i].loc[j, 'date']) & (hmr_dict[i]['verified'] == True)]['date'].count()) / (hmr_dict[i][hmr_dict[i]['date'] <= hmsr_dict[i].loc[j, 'date']]['date'].count()) \n",
    "            if type(hmr_dict[i]) != pd.core.series.Series:\n",
    "                hmsr_dict[i].loc[j, 'verified_acc_oneweek'] = (hmr_dict[i][(hmr_dict[i]['date'] <= \n",
    "                                                                          hmsr_dict[i].loc[j, 'new_date']) & (hmr_dict[i]['date'] >= (hmsr_dict[i].loc[j,'new_date'] - datetime.timedelta(days = 6))) & (hmr_dict[i]['verified'] == True)]['date'].count()) / (hmr_dict[i][(hmr_dict[i]['date'] <= \n",
    "                                                                          hmsr_dict[i].loc[j, 'new_date']) & (hmr_dict[i]['date'] >= (hmsr_dict[i].loc[j,'new_date'] - datetime.timedelta(days = 6)))]['date'].count()) "
   ]
  },
  {
   "cell_type": "markdown",
   "metadata": {},
   "source": [
    "### 2.4 Price related features\n",
    "* number of sellers\n",
    "* price"
   ]
  },
  {
   "cell_type": "code",
   "execution_count": 26,
   "metadata": {},
   "outputs": [],
   "source": [
    "for i in hmsr_dict:\n",
    "    if i in hmp_dict:\n",
    "        for j in range(4,len(hmsr_dict[i].index)):\n",
    "            if type(hmp_dict[i]) != pd.core.series.Series:\n",
    "                hmsr_dict[i].loc[j, 'latest_price'] = hmp_dict[i][hmp_dict[i]['buyboxtime'] <= hmsr_dict[i].loc[j, 'date']]['price'].iloc[-1]\n",
    "                \n",
    "                "
   ]
  },
  {
   "cell_type": "code",
   "execution_count": 27,
   "metadata": {},
   "outputs": [],
   "source": [
    "for i in hmsr_dict:\n",
    "    if i in hmp_dict:\n",
    "        for j in range(4,len(hmsr_dict[i].index)):\n",
    "            if type(hmp_dict[i]) != pd.core.series.Series:\n",
    "                hmsr_dict[i].loc[j, 'first_price'] = hmp_dict[i][hmp_dict[i]['date'] == hmsr_dict[i].loc[j, 'new_date']]['price'].iloc[-1]\n",
    "                \n",
    "                "
   ]
  },
  {
   "cell_type": "code",
   "execution_count": 28,
   "metadata": {},
   "outputs": [],
   "source": [
    "# fill NAs with the mean price\n",
    "for i in hmsr_dict:\n",
    "    hmsr_dict[i]['latest_price'] = hmsr_dict[i]['latest_price'].fillna(hmsr_dict[i]['latest_price'].mean())\n",
    "    hmsr_dict[i]['first_price'] = hmsr_dict[i]['first_price'].fillna(hmsr_dict[i]['first_price'].mean())"
   ]
  },
  {
   "cell_type": "code",
   "execution_count": 34,
   "metadata": {},
   "outputs": [
    {
     "data": {
      "text/html": [
       "<div>\n",
       "<style scoped>\n",
       "    .dataframe tbody tr th:only-of-type {\n",
       "        vertical-align: middle;\n",
       "    }\n",
       "\n",
       "    .dataframe tbody tr th {\n",
       "        vertical-align: top;\n",
       "    }\n",
       "\n",
       "    .dataframe thead th {\n",
       "        text-align: right;\n",
       "    }\n",
       "</style>\n",
       "<table border=\"1\" class=\"dataframe\">\n",
       "  <thead>\n",
       "    <tr style=\"text-align: right;\">\n",
       "      <th></th>\n",
       "      <th>id</th>\n",
       "      <th>source</th>\n",
       "      <th>date</th>\n",
       "      <th>category_id1</th>\n",
       "      <th>category_name1</th>\n",
       "      <th>category_rank1</th>\n",
       "      <th>category_id2</th>\n",
       "      <th>category_name2</th>\n",
       "      <th>category_rank2</th>\n",
       "      <th>category_id3</th>\n",
       "      <th>...</th>\n",
       "      <th>reviewnum_onemonth</th>\n",
       "      <th>author_acc</th>\n",
       "      <th>num_1_month</th>\n",
       "      <th>num_5_month</th>\n",
       "      <th>avg_word_count</th>\n",
       "      <th>avg_word_count_10</th>\n",
       "      <th>verified_acc</th>\n",
       "      <th>verified_acc_oneweek</th>\n",
       "      <th>latest_price</th>\n",
       "      <th>first_price</th>\n",
       "    </tr>\n",
       "  </thead>\n",
       "  <tbody>\n",
       "    <tr>\n",
       "      <td>0</td>\n",
       "      <td>B00122JD6W</td>\n",
       "      <td>amazon</td>\n",
       "      <td>2019-08-09 18:10:50</td>\n",
       "      <td>beauty/7792506011</td>\n",
       "      <td>Spa Beds &amp; Tables</td>\n",
       "      <td>60.0</td>\n",
       "      <td>sporting-goods</td>\n",
       "      <td>Sports &amp; Outdoors</td>\n",
       "      <td>46644.0</td>\n",
       "      <td>NaN</td>\n",
       "      <td>...</td>\n",
       "      <td>0.0</td>\n",
       "      <td>0.975</td>\n",
       "      <td>0.0</td>\n",
       "      <td>0.0</td>\n",
       "      <td>43.225</td>\n",
       "      <td>54.3</td>\n",
       "      <td>1.0</td>\n",
       "      <td>NaN</td>\n",
       "      <td>408.618941</td>\n",
       "      <td>408.618941</td>\n",
       "    </tr>\n",
       "    <tr>\n",
       "      <td>1</td>\n",
       "      <td>B00122JD6W</td>\n",
       "      <td>amazon</td>\n",
       "      <td>2019-08-10 18:58:51</td>\n",
       "      <td>beauty/7792506011</td>\n",
       "      <td>Spa Beds &amp; Tables</td>\n",
       "      <td>126.0</td>\n",
       "      <td>sporting-goods</td>\n",
       "      <td>Sports &amp; Outdoors</td>\n",
       "      <td>84066.0</td>\n",
       "      <td>NaN</td>\n",
       "      <td>...</td>\n",
       "      <td>0.0</td>\n",
       "      <td>0.975</td>\n",
       "      <td>0.0</td>\n",
       "      <td>0.0</td>\n",
       "      <td>43.225</td>\n",
       "      <td>54.3</td>\n",
       "      <td>1.0</td>\n",
       "      <td>NaN</td>\n",
       "      <td>408.618941</td>\n",
       "      <td>408.618941</td>\n",
       "    </tr>\n",
       "    <tr>\n",
       "      <td>2</td>\n",
       "      <td>B00122JD6W</td>\n",
       "      <td>amazon</td>\n",
       "      <td>2019-08-11 17:29:32</td>\n",
       "      <td>beauty/7792506011</td>\n",
       "      <td>Spa Beds &amp; Tables</td>\n",
       "      <td>81.0</td>\n",
       "      <td>sporting-goods</td>\n",
       "      <td>Sports &amp; Outdoors</td>\n",
       "      <td>68393.0</td>\n",
       "      <td>NaN</td>\n",
       "      <td>...</td>\n",
       "      <td>0.0</td>\n",
       "      <td>0.975</td>\n",
       "      <td>0.0</td>\n",
       "      <td>0.0</td>\n",
       "      <td>43.225</td>\n",
       "      <td>54.3</td>\n",
       "      <td>1.0</td>\n",
       "      <td>NaN</td>\n",
       "      <td>408.618941</td>\n",
       "      <td>408.618941</td>\n",
       "    </tr>\n",
       "    <tr>\n",
       "      <td>3</td>\n",
       "      <td>B00122JD6W</td>\n",
       "      <td>amazon</td>\n",
       "      <td>2019-08-12 13:30:36</td>\n",
       "      <td>beauty/7792506011</td>\n",
       "      <td>Spa Beds &amp; Tables</td>\n",
       "      <td>66.0</td>\n",
       "      <td>sporting-goods</td>\n",
       "      <td>Sports &amp; Outdoors</td>\n",
       "      <td>58901.0</td>\n",
       "      <td>NaN</td>\n",
       "      <td>...</td>\n",
       "      <td>0.0</td>\n",
       "      <td>0.975</td>\n",
       "      <td>0.0</td>\n",
       "      <td>0.0</td>\n",
       "      <td>43.225</td>\n",
       "      <td>54.3</td>\n",
       "      <td>1.0</td>\n",
       "      <td>NaN</td>\n",
       "      <td>408.618941</td>\n",
       "      <td>408.618941</td>\n",
       "    </tr>\n",
       "    <tr>\n",
       "      <td>4</td>\n",
       "      <td>B00122JD6W</td>\n",
       "      <td>amazon</td>\n",
       "      <td>2019-08-13 18:38:03</td>\n",
       "      <td>beauty/7792506011</td>\n",
       "      <td>Spa Beds &amp; Tables</td>\n",
       "      <td>51.0</td>\n",
       "      <td>sporting-goods</td>\n",
       "      <td>Sports &amp; Outdoors</td>\n",
       "      <td>39672.0</td>\n",
       "      <td>NaN</td>\n",
       "      <td>...</td>\n",
       "      <td>0.0</td>\n",
       "      <td>0.975</td>\n",
       "      <td>0.0</td>\n",
       "      <td>0.0</td>\n",
       "      <td>43.225</td>\n",
       "      <td>54.3</td>\n",
       "      <td>1.0</td>\n",
       "      <td>NaN</td>\n",
       "      <td>422.860000</td>\n",
       "      <td>422.860000</td>\n",
       "    </tr>\n",
       "    <tr>\n",
       "      <td>...</td>\n",
       "      <td>...</td>\n",
       "      <td>...</td>\n",
       "      <td>...</td>\n",
       "      <td>...</td>\n",
       "      <td>...</td>\n",
       "      <td>...</td>\n",
       "      <td>...</td>\n",
       "      <td>...</td>\n",
       "      <td>...</td>\n",
       "      <td>...</td>\n",
       "      <td>...</td>\n",
       "      <td>...</td>\n",
       "      <td>...</td>\n",
       "      <td>...</td>\n",
       "      <td>...</td>\n",
       "      <td>...</td>\n",
       "      <td>...</td>\n",
       "      <td>...</td>\n",
       "      <td>...</td>\n",
       "      <td>...</td>\n",
       "      <td>...</td>\n",
       "    </tr>\n",
       "    <tr>\n",
       "      <td>84</td>\n",
       "      <td>B00122JD6W</td>\n",
       "      <td>amazon</td>\n",
       "      <td>2019-11-01 18:08:49</td>\n",
       "      <td>beauty/7792506011</td>\n",
       "      <td>Spa Beds &amp; Tables</td>\n",
       "      <td>64.0</td>\n",
       "      <td>sporting-goods</td>\n",
       "      <td>Sports &amp; Outdoors</td>\n",
       "      <td>46062.0</td>\n",
       "      <td>NaN</td>\n",
       "      <td>...</td>\n",
       "      <td>0.0</td>\n",
       "      <td>0.975</td>\n",
       "      <td>0.0</td>\n",
       "      <td>0.0</td>\n",
       "      <td>43.225</td>\n",
       "      <td>54.3</td>\n",
       "      <td>1.0</td>\n",
       "      <td>NaN</td>\n",
       "      <td>425.000000</td>\n",
       "      <td>425.000000</td>\n",
       "    </tr>\n",
       "    <tr>\n",
       "      <td>85</td>\n",
       "      <td>B00122JD6W</td>\n",
       "      <td>amazon</td>\n",
       "      <td>2019-11-02 17:48:02</td>\n",
       "      <td>beauty/7792506011</td>\n",
       "      <td>Spa Beds &amp; Tables</td>\n",
       "      <td>83.0</td>\n",
       "      <td>sporting-goods</td>\n",
       "      <td>Sports &amp; Outdoors</td>\n",
       "      <td>59594.0</td>\n",
       "      <td>NaN</td>\n",
       "      <td>...</td>\n",
       "      <td>0.0</td>\n",
       "      <td>0.975</td>\n",
       "      <td>0.0</td>\n",
       "      <td>0.0</td>\n",
       "      <td>43.225</td>\n",
       "      <td>54.3</td>\n",
       "      <td>1.0</td>\n",
       "      <td>NaN</td>\n",
       "      <td>425.000000</td>\n",
       "      <td>425.000000</td>\n",
       "    </tr>\n",
       "    <tr>\n",
       "      <td>86</td>\n",
       "      <td>B00122JD6W</td>\n",
       "      <td>amazon</td>\n",
       "      <td>2019-11-03 17:54:17</td>\n",
       "      <td>beauty/7792506011</td>\n",
       "      <td>Spa Beds &amp; Tables</td>\n",
       "      <td>45.0</td>\n",
       "      <td>sporting-goods</td>\n",
       "      <td>Sports &amp; Outdoors</td>\n",
       "      <td>33208.0</td>\n",
       "      <td>NaN</td>\n",
       "      <td>...</td>\n",
       "      <td>0.0</td>\n",
       "      <td>0.975</td>\n",
       "      <td>0.0</td>\n",
       "      <td>0.0</td>\n",
       "      <td>43.225</td>\n",
       "      <td>54.3</td>\n",
       "      <td>1.0</td>\n",
       "      <td>NaN</td>\n",
       "      <td>425.000000</td>\n",
       "      <td>425.000000</td>\n",
       "    </tr>\n",
       "    <tr>\n",
       "      <td>87</td>\n",
       "      <td>B00122JD6W</td>\n",
       "      <td>amazon</td>\n",
       "      <td>2019-11-04 18:38:12</td>\n",
       "      <td>beauty/7792506011</td>\n",
       "      <td>Spa Beds &amp; Tables</td>\n",
       "      <td>80.0</td>\n",
       "      <td>sporting-goods</td>\n",
       "      <td>Sports &amp; Outdoors</td>\n",
       "      <td>56654.0</td>\n",
       "      <td>NaN</td>\n",
       "      <td>...</td>\n",
       "      <td>0.0</td>\n",
       "      <td>0.975</td>\n",
       "      <td>0.0</td>\n",
       "      <td>0.0</td>\n",
       "      <td>43.225</td>\n",
       "      <td>54.3</td>\n",
       "      <td>1.0</td>\n",
       "      <td>NaN</td>\n",
       "      <td>425.000000</td>\n",
       "      <td>425.000000</td>\n",
       "    </tr>\n",
       "    <tr>\n",
       "      <td>88</td>\n",
       "      <td>B00122JD6W</td>\n",
       "      <td>amazon</td>\n",
       "      <td>2019-11-05 18:35:16</td>\n",
       "      <td>beauty/7792506011</td>\n",
       "      <td>Spa Beds &amp; Tables</td>\n",
       "      <td>37.0</td>\n",
       "      <td>sporting-goods</td>\n",
       "      <td>Sports &amp; Outdoors</td>\n",
       "      <td>27451.0</td>\n",
       "      <td>NaN</td>\n",
       "      <td>...</td>\n",
       "      <td>0.0</td>\n",
       "      <td>0.975</td>\n",
       "      <td>0.0</td>\n",
       "      <td>0.0</td>\n",
       "      <td>43.225</td>\n",
       "      <td>54.3</td>\n",
       "      <td>1.0</td>\n",
       "      <td>NaN</td>\n",
       "      <td>425.000000</td>\n",
       "      <td>425.000000</td>\n",
       "    </tr>\n",
       "  </tbody>\n",
       "</table>\n",
       "<p>89 rows × 34 columns</p>\n",
       "</div>"
      ],
      "text/plain": [
       "            id  source                 date       category_id1  \\\n",
       "0   B00122JD6W  amazon  2019-08-09 18:10:50  beauty/7792506011   \n",
       "1   B00122JD6W  amazon  2019-08-10 18:58:51  beauty/7792506011   \n",
       "2   B00122JD6W  amazon  2019-08-11 17:29:32  beauty/7792506011   \n",
       "3   B00122JD6W  amazon  2019-08-12 13:30:36  beauty/7792506011   \n",
       "4   B00122JD6W  amazon  2019-08-13 18:38:03  beauty/7792506011   \n",
       "..         ...     ...                  ...                ...   \n",
       "84  B00122JD6W  amazon  2019-11-01 18:08:49  beauty/7792506011   \n",
       "85  B00122JD6W  amazon  2019-11-02 17:48:02  beauty/7792506011   \n",
       "86  B00122JD6W  amazon  2019-11-03 17:54:17  beauty/7792506011   \n",
       "87  B00122JD6W  amazon  2019-11-04 18:38:12  beauty/7792506011   \n",
       "88  B00122JD6W  amazon  2019-11-05 18:35:16  beauty/7792506011   \n",
       "\n",
       "       category_name1  category_rank1    category_id2     category_name2  \\\n",
       "0   Spa Beds & Tables            60.0  sporting-goods  Sports & Outdoors   \n",
       "1   Spa Beds & Tables           126.0  sporting-goods  Sports & Outdoors   \n",
       "2   Spa Beds & Tables            81.0  sporting-goods  Sports & Outdoors   \n",
       "3   Spa Beds & Tables            66.0  sporting-goods  Sports & Outdoors   \n",
       "4   Spa Beds & Tables            51.0  sporting-goods  Sports & Outdoors   \n",
       "..                ...             ...             ...                ...   \n",
       "84  Spa Beds & Tables            64.0  sporting-goods  Sports & Outdoors   \n",
       "85  Spa Beds & Tables            83.0  sporting-goods  Sports & Outdoors   \n",
       "86  Spa Beds & Tables            45.0  sporting-goods  Sports & Outdoors   \n",
       "87  Spa Beds & Tables            80.0  sporting-goods  Sports & Outdoors   \n",
       "88  Spa Beds & Tables            37.0  sporting-goods  Sports & Outdoors   \n",
       "\n",
       "    category_rank2 category_id3  ... reviewnum_onemonth  author_acc  \\\n",
       "0          46644.0          NaN  ...                0.0       0.975   \n",
       "1          84066.0          NaN  ...                0.0       0.975   \n",
       "2          68393.0          NaN  ...                0.0       0.975   \n",
       "3          58901.0          NaN  ...                0.0       0.975   \n",
       "4          39672.0          NaN  ...                0.0       0.975   \n",
       "..             ...          ...  ...                ...         ...   \n",
       "84         46062.0          NaN  ...                0.0       0.975   \n",
       "85         59594.0          NaN  ...                0.0       0.975   \n",
       "86         33208.0          NaN  ...                0.0       0.975   \n",
       "87         56654.0          NaN  ...                0.0       0.975   \n",
       "88         27451.0          NaN  ...                0.0       0.975   \n",
       "\n",
       "    num_1_month  num_5_month  avg_word_count avg_word_count_10  verified_acc  \\\n",
       "0           0.0          0.0          43.225              54.3           1.0   \n",
       "1           0.0          0.0          43.225              54.3           1.0   \n",
       "2           0.0          0.0          43.225              54.3           1.0   \n",
       "3           0.0          0.0          43.225              54.3           1.0   \n",
       "4           0.0          0.0          43.225              54.3           1.0   \n",
       "..          ...          ...             ...               ...           ...   \n",
       "84          0.0          0.0          43.225              54.3           1.0   \n",
       "85          0.0          0.0          43.225              54.3           1.0   \n",
       "86          0.0          0.0          43.225              54.3           1.0   \n",
       "87          0.0          0.0          43.225              54.3           1.0   \n",
       "88          0.0          0.0          43.225              54.3           1.0   \n",
       "\n",
       "    verified_acc_oneweek  latest_price  first_price  \n",
       "0                    NaN    408.618941   408.618941  \n",
       "1                    NaN    408.618941   408.618941  \n",
       "2                    NaN    408.618941   408.618941  \n",
       "3                    NaN    408.618941   408.618941  \n",
       "4                    NaN    422.860000   422.860000  \n",
       "..                   ...           ...          ...  \n",
       "84                   NaN    425.000000   425.000000  \n",
       "85                   NaN    425.000000   425.000000  \n",
       "86                   NaN    425.000000   425.000000  \n",
       "87                   NaN    425.000000   425.000000  \n",
       "88                   NaN    425.000000   425.000000  \n",
       "\n",
       "[89 rows x 34 columns]"
      ]
     },
     "execution_count": 34,
     "metadata": {},
     "output_type": "execute_result"
    }
   ],
   "source": [
    "hmsr_dict['B00122JD6W']"
   ]
  },
  {
   "cell_type": "markdown",
   "metadata": {},
   "source": [
    "#### Remove problematic products with only 1 records"
   ]
  },
  {
   "cell_type": "code",
   "execution_count": 35,
   "metadata": {},
   "outputs": [
    {
     "data": {
      "text/plain": [
       "[]"
      ]
     },
     "execution_count": 35,
     "metadata": {},
     "output_type": "execute_result"
    }
   ],
   "source": [
    "problem_products=[]\n",
    "for i in hmsr_dict:\n",
    "    if type(hmsr_dict[i]['category_rank1'])!= pd.core.series.Series:\n",
    "        problem_products.append(i)\n",
    "problem_products"
   ]
  },
  {
   "cell_type": "code",
   "execution_count": 36,
   "metadata": {},
   "outputs": [],
   "source": [
    "for item in problem_products:\n",
    "    del hmsr_dict[item]"
   ]
  },
  {
   "cell_type": "markdown",
   "metadata": {},
   "source": [
    "### 2.5 Data preparation for modeling\n",
    "Models for different product groups\n",
    "    * Large salesrank variation\n",
    "    * Most reviews records"
   ]
  },
  {
   "cell_type": "code",
   "execution_count": 37,
   "metadata": {},
   "outputs": [
    {
     "name": "stderr",
     "output_type": "stream",
     "text": [
      "/Users/yvettepeng/anaconda3/lib/python3.7/site-packages/ipykernel_launcher.py:10: FutureWarning: Sorting because non-concatenation axis is not aligned. A future version\n",
      "of pandas will change to not sort by default.\n",
      "\n",
      "To accept the future behavior, pass 'sort=False'.\n",
      "\n",
      "To retain the current behavior and silence the warning, pass 'sort=True'.\n",
      "\n",
      "  # Remove the CWD from sys.path while we load stuff.\n"
     ]
    }
   ],
   "source": [
    "# To change the keys from product ids to numbers, preparing for the following loop.\n",
    "new_dict_hmsr = dict((i,hmsr_dict[k]) for i,k in enumerate(sorted(hmsr_dict.keys())))\n",
    "\n",
    "# pull out interested products to form a new dataframe\n",
    "\n",
    "a = new_dict_hmsr[0]\n",
    "for i in new_dict_hmsr:\n",
    "    new_dict_hmsr[i]=new_dict_hmsr[i].reset_index()\n",
    "    if new_dict_hmsr[i].loc[1,'id'] in common: \n",
    "        a = pd.concat([a,new_dict_hmsr[i]],ignore_index=True)"
   ]
  },
  {
   "cell_type": "code",
   "execution_count": 38,
   "metadata": {},
   "outputs": [
    {
     "data": {
      "text/plain": [
       "0      B00122GAJK\n",
       "1      B00122GAJK\n",
       "2      B00122GAJK\n",
       "3      B00122GAJK\n",
       "4      B00122GAJK\n",
       "          ...    \n",
       "962    B00BG84X26\n",
       "963    B00BG84X26\n",
       "964    B00BG84X26\n",
       "965    B00BG84X26\n",
       "966    B00BG84X26\n",
       "Name: id, Length: 967, dtype: object"
      ]
     },
     "execution_count": 38,
     "metadata": {},
     "output_type": "execute_result"
    }
   ],
   "source": [
    "a['id']"
   ]
  },
  {
   "cell_type": "code",
   "execution_count": 40,
   "metadata": {},
   "outputs": [],
   "source": [
    "# The first product is what we don't want, (not in common), but in the above loop, it's more convenient to include that, so we delete it now.\n",
    "# final_df = a[a['id'] != 'B00000JFNV']\n",
    "final_df = a\n",
    "# put our interested columns in the final dataframe.\n",
    "final_df = final_df.reset_index(drop = True)[['id', 'date', 'category_name1',\n",
    "       'category_rank1','log_rank', 'delta_rank',\n",
    "       'stars_recent_10', 'stars_recent_oneweek',\n",
    "       'stars_recent_onemonth', 'stars_avg', 'review_acc', 'reviewnum_oneweek',\n",
    "       'reviewnum_onemonth', 'avg_word_count', 'verified_acc',\n",
    "       'verified_acc_oneweek', 'log_rank', 'delta_rank','avg_word_count_10','num_1_month', 'num_5_month',\n",
    "        'latest_price','first_price','author_acc']]\n",
    "\n",
    "\n",
    "# replace the NAs with 0\n",
    "final_df = final_df.fillna(0)\n",
    "temp=final_df\n",
    "final_df.drop_duplicates(inplace = True)\n",
    "final_df.to_csv('final_df.csv')"
   ]
  },
  {
   "cell_type": "code",
   "execution_count": null,
   "metadata": {},
   "outputs": [],
   "source": []
  }
 ],
 "metadata": {
  "kernelspec": {
   "display_name": "Python 3",
   "language": "python",
   "name": "python3"
  },
  "language_info": {
   "codemirror_mode": {
    "name": "ipython",
    "version": 3
   },
   "file_extension": ".py",
   "mimetype": "text/x-python",
   "name": "python",
   "nbconvert_exporter": "python",
   "pygments_lexer": "ipython3",
   "version": "3.7.3"
  }
 },
 "nbformat": 4,
 "nbformat_minor": 2
}
