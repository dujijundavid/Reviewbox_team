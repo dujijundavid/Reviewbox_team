{
 "cells": [
  {
   "cell_type": "code",
   "execution_count": 46,
   "metadata": {},
   "outputs": [],
   "source": [
    "from bs4 import BeautifulSoup\n",
    "import requests\n",
    "import time\n",
    "import re\n",
    "import glob\n",
    "import os\n",
    "import codecs\n",
    "import mysql.connector\n",
    "from pandas import DataFrame\n",
    "import pandas as pd\n",
    "from progressbar import ProgressBar\n",
    "pbar = ProgressBar()\n",
    "from tqdm import tqdm\n",
    "from selenium import webdriver"
   ]
  },
  {
   "cell_type": "code",
   "execution_count": 48,
   "metadata": {},
   "outputs": [
    {
     "name": "stdout",
     "output_type": "stream",
     "text": [
      "enter your first name initial in capsT\n"
     ]
    }
   ],
   "source": [
    "headers = {'User-Agent': 'Mozilla/5.0'}\n",
    "folder = os.getcwd() + '\\\\reviewmeta_pages\\\\'\n",
    "if not os.path.exists(folder):\n",
    "    os.makedirs(folder)\n",
    "\n",
    "# read the file we just stored\n",
    "source_product = pd.read_csv('source_product.csv', sep=',')\n",
    "name = input(\"enter your first name initial in caps\")\n",
    "if name == \"T\":\n",
    "    source_product = source_product[0:200]\n",
    "if name == \"N\":\n",
    "    source_product = source_product[201:400]\n",
    "if name == \"I\":\n",
    "    source_product = source_product[401:600]\n",
    "if name == \"J\":\n",
    "    source_product = source_product[601:800]\n",
    "if name == \"Y\":\n",
    "    source_product = source_product[801:1000]\n",
    "if name == \"D\":\n",
    "    source_product = source_product[1001:1200]\n",
    "if name == \"K\":\n",
    "    source_product = source_product[1201:len(source_product_test)-1]\n",
    "    \n",
    "problematic = []"
   ]
  },
  {
   "cell_type": "code",
   "execution_count": 16,
   "metadata": {},
   "outputs": [
    {
     "data": {
      "text/plain": [
       "'T'"
      ]
     },
     "execution_count": 16,
     "metadata": {},
     "output_type": "execute_result"
    }
   ],
   "source": [
    "name"
   ]
  },
  {
   "cell_type": "code",
   "execution_count": 17,
   "metadata": {},
   "outputs": [
    {
     "data": {
      "text/html": [
       "<div>\n",
       "<style scoped>\n",
       "    .dataframe tbody tr th:only-of-type {\n",
       "        vertical-align: middle;\n",
       "    }\n",
       "\n",
       "    .dataframe tbody tr th {\n",
       "        vertical-align: top;\n",
       "    }\n",
       "\n",
       "    .dataframe thead th {\n",
       "        text-align: right;\n",
       "    }\n",
       "</style>\n",
       "<table border=\"1\" class=\"dataframe\">\n",
       "  <thead>\n",
       "    <tr style=\"text-align: right;\">\n",
       "      <th></th>\n",
       "      <th>Source</th>\n",
       "      <th>product</th>\n",
       "      <th>Profile Ids</th>\n",
       "      <th>RSC</th>\n",
       "    </tr>\n",
       "  </thead>\n",
       "  <tbody>\n",
       "    <tr>\n",
       "      <td>0</td>\n",
       "      <td>amazon</td>\n",
       "      <td>B07LB1L3J9</td>\n",
       "      <td>NaN</td>\n",
       "      <td>0</td>\n",
       "    </tr>\n",
       "    <tr>\n",
       "      <td>1</td>\n",
       "      <td>amazon</td>\n",
       "      <td>B07TDCWDRF</td>\n",
       "      <td>NaN</td>\n",
       "      <td>0</td>\n",
       "    </tr>\n",
       "    <tr>\n",
       "      <td>2</td>\n",
       "      <td>amazon</td>\n",
       "      <td>B07MXRSZCX</td>\n",
       "      <td>NaN</td>\n",
       "      <td>0</td>\n",
       "    </tr>\n",
       "    <tr>\n",
       "      <td>3</td>\n",
       "      <td>amazon</td>\n",
       "      <td>B07CNZWD9G</td>\n",
       "      <td>NaN</td>\n",
       "      <td>0</td>\n",
       "    </tr>\n",
       "    <tr>\n",
       "      <td>4</td>\n",
       "      <td>amazon</td>\n",
       "      <td>B07SQZ3VFZ</td>\n",
       "      <td>NaN</td>\n",
       "      <td>0</td>\n",
       "    </tr>\n",
       "  </tbody>\n",
       "</table>\n",
       "</div>"
      ],
      "text/plain": [
       "   Source     product  Profile Ids  RSC\n",
       "0  amazon  B07LB1L3J9          NaN    0\n",
       "1  amazon  B07TDCWDRF          NaN    0\n",
       "2  amazon  B07MXRSZCX          NaN    0\n",
       "3  amazon  B07CNZWD9G          NaN    0\n",
       "4  amazon  B07SQZ3VFZ          NaN    0"
      ]
     },
     "execution_count": 17,
     "metadata": {},
     "output_type": "execute_result"
    }
   ],
   "source": [
    "source_product.head()"
   ]
  },
  {
   "cell_type": "markdown",
   "metadata": {},
   "source": [
    "## Functions "
   ]
  },
  {
   "cell_type": "markdown",
   "metadata": {},
   "source": [
    "Given a link this script will fetch data from reviewmeta"
   ]
  },
  {
   "cell_type": "code",
   "execution_count": 18,
   "metadata": {},
   "outputs": [],
   "source": [
    "def checksource(url):\n",
    "    if (\".fr\" in url):\n",
    "        return \"amazon-fr\"\n",
    "    if (\".ca\" in url):\n",
    "        return \"amazon-ca\"\n",
    "    if (\".de\" in url):\n",
    "        return \"amazon-de\"\n",
    "    if (\".uk\" in url):\n",
    "        return \"amazon-uk\"\n",
    "    else:\n",
    "        return \"amazon\""
   ]
  },
  {
   "cell_type": "markdown",
   "metadata": {},
   "source": [
    "### webscraping from reviewmeta"
   ]
  },
  {
   "cell_type": "code",
   "execution_count": 19,
   "metadata": {},
   "outputs": [],
   "source": [
    "def data_per_product(cat,number_of_rev,soup,product):\n",
    "    output = {}\n",
    "    trust, rev_rate, rev_title, rev_det, rev_link_rm,rev_txt_am,rev_lnk_am = ([] for i in range(7))\n",
    "    \n",
    "    if(cat == \"good\"):\n",
    "        trust_soup = soup.find_all(\"div\",class_  = \"col-sm-2 col-xs-12 text-center review-pass-badge\")\n",
    "        if(len(trust_soup)<number_of_rev):\n",
    "            temp = soup.find_all(\"div\",class_ = \"col-sm-2 col-xs-12 text-center review-warn-badge\")\n",
    "            trust_soup = trust_soup + temp\n",
    "\n",
    "    elif(cat == \"bad\"):\n",
    "        trust_soup = soup.find_all(\"div\",class_  = \"col-sm-2 col-xs-12 text-center review-fail-badge\")\n",
    "        if(len(trust_soup)<number_of_rev):\n",
    "            temp = soup.find_all(\"div\",class_ = \"col-sm-2 col-xs-12 text-center review-warn-badge\")\n",
    "            trust_soup = trust_soup + temp\n",
    "\n",
    "    \n",
    "    for i in range(0,number_of_rev):\n",
    "        \n",
    "        trust.append      (int(re.findall(r'[0-9]+',str(trust_soup[i].text))[0])/100)                  #convert trust to 0 to 1 scale\n",
    "        rev_rate.append   (re.findall(r'[0-5]',str(soup.find_all(\"div\",class_  = \"col-md-1 col-xs-2 bw-rating\")[i].text))[0])\n",
    "        rev_title.append  (soup.find_all(\"div\",class_  = \"col-md-11 col-xs-10 show-title\")[i].text)\n",
    "        rev_det.append    (soup.find_all(\"div\",class_  = \"col-sm-10 col-xs-12\")[i].text)\n",
    "        rev_link_rm.append(soup.find_all(\"label\",class_= \"written-by\")[i].find(\"a\").get('href'))\n",
    "        rev_txt_am.append (soup.find_all('div',class_  = \"show-actual-review\") [i].text)\n",
    "        rev_lnk_am.append (soup.find_all('div',class_  = \"show-actual-review\") [i].find(\"a\").get('href'))\n",
    "\n",
    "    output[\"product\"]          = product\n",
    "    output[\"trust\"]            = trust   \n",
    "    output[\"review_rating\"]    = rev_rate\n",
    "    output[\"review_title\"]     = rev_title\n",
    "    output[\"reviewer_details\"] = rev_det\n",
    "    output[\"reviewer_link_RM\"] = rev_link_rm\n",
    "    output[\"rvwr_text_Amazon\"] = rev_txt_am\n",
    "    output[\"rvwr_link_Amazon\"] = rev_lnk_am \n",
    "    return(output)"
   ]
  },
  {
   "cell_type": "markdown",
   "metadata": {},
   "source": [
    "### reviwer profile detials clean up"
   ]
  },
  {
   "cell_type": "code",
   "execution_count": 40,
   "metadata": {},
   "outputs": [],
   "source": [
    "def rev_details_dict(review_temp):\n",
    "    rev_dict = {\"Verified_Purchases\": 0, \"Nvr_verified_reviewer\"   : 0, \"Contains_rep_phrases\": 0,\n",
    "                  \"high_vol_day_rev\": 0, \"Critical_Rev_rating\"     : 0, \"Take_backs\"          : 0, \n",
    "                 \"Take_backs_rating\": 0, \"Overrep_part\"            : 0, \"Overrep_wrd_cnt\"     : 0,\n",
    "                 \"Easy_grade_rating\": 0, \"Overlapping_rev_history\" : 0, \"Brand_Rep_freq\"      : 0,\n",
    "                 \"Brand_rep_rating\" : 0, \"One_hit\"                 : 0, \"incentivized\"        : 0,\n",
    "                 \"Brand_repeater\"   : 0, \"Brand_Loyalist\"          : 0, \"Brand_Monogamist\"    : 0}\n",
    "\n",
    "    for rev_metric in review_temp:\n",
    "\n",
    "        if(\"Unverified Purchaser\" in rev_metric):\n",
    "            rev_dict[\"Verified_Purchases\"] = 0\n",
    "\n",
    "        if(\"Verified Purchaser\" in rev_metric):\n",
    "            rev_dict[\"Verified_Purchases\"] = 1\n",
    "\n",
    "    #Ex: Never-Verified Reviewer\n",
    "        if(\"Never-Verified Reviewer\" in rev_metric):\n",
    "            rev_dict[\"Nvr_verified_reviewer\"]= 1\n",
    "\n",
    "        if(\"Contains repetitive phrases\" in rev_metric):\n",
    "            rev_dict[\"Contains_rep_phrases\"] = 1\n",
    "\n",
    "        if(\"Created on a high volume day\" in rev_metric):\n",
    "            rev_dict[\"high_vol_day_rev\"]     = 1\n",
    "\n",
    "        if(\"Critical Reviewer\" in rev_metric):\n",
    "            rev_dict[\"Critical_Rev_rating\"] = float(rev_metric[-4:-1])\n",
    "\n",
    "        if(\"Take-Back Reviewer\" in rev_metric):\n",
    "            rev_dict[\"Take_backs\"]          = int(re.findall(r'[0-9]+',rev_metric)[0])\n",
    "            rev_dict[\"Take_backs_rating\"]   = float(rev_metric[-4:-1])\n",
    "\n",
    "    #EX: Overrepresented Participation (posted 2 reviews)        \n",
    "        if(\"Overrepresented Participation\" in rev_metric):\n",
    "            rev_dict[\"Overrep_part\"]       = int(re.findall(r'[0-9]+',rev_metric)[0])   \n",
    "\n",
    "    #EX: Overrepresented word count (3 words)       \n",
    "        if(\"Overrepresented word count\" in rev_metric):\n",
    "            rev_dict[\"Overrep_wrd_cnt\"]    = int(re.findall(r'[0-9]+',rev_metric)[0])   \n",
    "\n",
    "    #Ex: Easy Grader (avg. rating: 4.8)        \n",
    "        if(\"Easy Grader\" in rev_metric):\n",
    "            rev_dict[\"Easy_grade_rating\"] = float(rev_metric[-4:-1])\n",
    "\n",
    "    #Ex: Overlapping Review History: reviewed 1 of 9 top products        \n",
    "        if(\"Overlapping Review History\" in rev_metric):\n",
    "            rev_dict[\"Overlapping_rev_history\"] = int(re.findall(r'[0-9]+',rev_metric)[0])/int(re.findall(r'[0-9]+',rev_metric)[1])\n",
    "\n",
    "    #Brand Repeater (2 of 53 reviews for this brand; avg rating: 5.0)\n",
    "        if(\"Brand Repeater\" in rev_metric):\n",
    "            rev_dict[\"Brand_repeater\"]     = 1\n",
    "            rev_dict[\"Brand_Rep_freq\"]     = (re.findall(r'[0-9]+',rev_metric)[0])+\"/\"+(re.findall(r'[0-9]+',rev_metric)[1])\n",
    "            rev_dict[\"Brand_rep_rating\"]   = float(rev_metric[-4:-1])\n",
    "        \n",
    "        if(\"Brand Loyalist\" in rev_metric):\n",
    "            rev_dict[\"Brand_Loyalist\"]     = 1 \n",
    "            \n",
    "        if(\"Brand Loyalist\" in rev_metric):\n",
    "            rev_dict[\"Brand_Monogamist\"]   = 1 \n",
    "\n",
    "        if(\"One-Hit Wonder\" in rev_metric):\n",
    "             rev_dict[\"One_hit\"]     = 1 \n",
    "                \n",
    "        if (\"Admitted to receiving an incentive\" in rev_metric):\n",
    "            rev_dict[\"incentivized\"] = 1\n",
    "            \n",
    "    return rev_dict\n"
   ]
  },
  {
   "cell_type": "markdown",
   "metadata": {},
   "source": [
    "### give review dataframe for a single prduct "
   ]
  },
  {
   "cell_type": "code",
   "execution_count": 21,
   "metadata": {},
   "outputs": [],
   "source": [
    "def get_review_df_per_soup(soup, productname):\n",
    "    soup_good     = soup.find(\"div\", {\"id\": \"good-reviews\"})\n",
    "    no_of_good    = len(soup_good.find_all(\"div\",id = \"sample_reviews\"))  \n",
    "    soup_bad      = soup.find(\"div\", {\"id\": \"bad-reviews\"})\n",
    "    no_of_bad     = len(soup_bad.find_all(\"div\",id = \"sample_reviews\"))\n",
    "\n",
    "    good_reviews_sum = pd.DataFrame.from_dict(data_per_product(\"good\",no_of_good,soup_good,productname))\n",
    "    bad_reviews_sum  = pd.DataFrame.from_dict(data_per_product(\"bad\",no_of_bad,soup_bad,productname))\n",
    "\n",
    "    review_total              = good_reviews_sum.append(bad_reviews_sum).reset_index(drop=True)\n",
    "    review_total[\"Amazon_ID\"] = review_total[\"rvwr_link_Amazon\"].apply(lambda x: x[(x.rfind(\"/\"))+1:]) \n",
    "    \n",
    "   # print(review_total)\n",
    "    \n",
    "    # split individual review deets into attributes\n",
    "    all_review_dict=[]\n",
    "    for i in range(no_of_good + no_of_bad):\n",
    "        review_temp = review_total[\"reviewer_details\"][i].split(\"\\n\")\n",
    "        rev_details = rev_details_dict(review_temp)\n",
    "        all_review_dict.append(rev_details)\n",
    "\n",
    "    #merge all the dictonaries with same key\n",
    "    review_attributes = {}\n",
    "    for k in all_review_dict[0]:\n",
    "        review_attributes[k] = [d[k] for d in all_review_dict]\n",
    "\n",
    "    review_total= review_total.join(pd.DataFrame.from_dict(review_attributes))\n",
    "    return review_total"
   ]
  },
  {
   "cell_type": "markdown",
   "metadata": {},
   "source": [
    "## Downloading review meta pages with time lag on local"
   ]
  },
  {
   "cell_type": "code",
   "execution_count": 41,
   "metadata": {
    "scrolled": true
   },
   "outputs": [
    {
     "name": "stderr",
     "output_type": "stream",
     "text": [
      "\n",
      "\n",
      "  0%|                                                                                          | 0/200 [00:00<?, ?it/s]"
     ]
    },
    {
     "name": "stdout",
     "output_type": "stream",
     "text": [
      "https://reviewmeta.com/amazon/B07LB1L3J9\n"
     ]
    },
    {
     "name": "stderr",
     "output_type": "stream",
     "text": [
      "\n",
      "\n",
      "  0%|▍                                                                                 | 1/200 [00:04<15:28,  4.67s/it]"
     ]
    },
    {
     "name": "stdout",
     "output_type": "stream",
     "text": [
      "https://reviewmeta.com/amazon/B07TDCWDRF\n"
     ]
    },
    {
     "name": "stderr",
     "output_type": "stream",
     "text": [
      "\n",
      "\n",
      "  1%|▊                                                                                 | 2/200 [00:09<15:29,  4.69s/it]"
     ]
    },
    {
     "name": "stdout",
     "output_type": "stream",
     "text": [
      "https://reviewmeta.com/amazon/B07MXRSZCX\n"
     ]
    },
    {
     "name": "stderr",
     "output_type": "stream",
     "text": [
      "\n",
      "\n",
      "  2%|█▏                                                                                | 3/200 [00:14<15:22,  4.68s/it]"
     ]
    },
    {
     "name": "stdout",
     "output_type": "stream",
     "text": [
      "https://reviewmeta.com/amazon/B07CNZWD9G\n"
     ]
    },
    {
     "name": "stderr",
     "output_type": "stream",
     "text": [
      "\n",
      "\n",
      "  2%|█▋                                                                                | 4/200 [00:18<15:13,  4.66s/it]"
     ]
    },
    {
     "name": "stdout",
     "output_type": "stream",
     "text": [
      "https://reviewmeta.com/amazon/B07SQZ3VFZ\n"
     ]
    },
    {
     "name": "stderr",
     "output_type": "stream",
     "text": [
      "\n",
      "\n",
      "  2%|██                                                                                | 5/200 [00:23<15:06,  4.65s/it]"
     ]
    },
    {
     "name": "stdout",
     "output_type": "stream",
     "text": [
      "https://reviewmeta.com/amazon/B07N7CFMSY\n"
     ]
    },
    {
     "name": "stderr",
     "output_type": "stream",
     "text": [
      "\n",
      "\n",
      "  3%|██▍                                                                               | 6/200 [00:27<15:02,  4.65s/it]"
     ]
    },
    {
     "name": "stdout",
     "output_type": "stream",
     "text": [
      "https://reviewmeta.com/amazon/B07WCCCKJ9\n"
     ]
    },
    {
     "name": "stderr",
     "output_type": "stream",
     "text": [
      "\n",
      "\n",
      "  4%|██▊                                                                               | 7/200 [00:32<15:00,  4.67s/it]"
     ]
    },
    {
     "name": "stdout",
     "output_type": "stream",
     "text": [
      "https://reviewmeta.com/amazon/B07VYNV7XP\n"
     ]
    },
    {
     "name": "stderr",
     "output_type": "stream",
     "text": [
      "\n",
      "\n",
      "  4%|███▎                                                                              | 8/200 [00:37<14:52,  4.65s/it]"
     ]
    },
    {
     "name": "stdout",
     "output_type": "stream",
     "text": [
      "https://reviewmeta.com/amazon/B07XBKYWQ2\n"
     ]
    },
    {
     "name": "stderr",
     "output_type": "stream",
     "text": [
      "\n",
      "\n",
      "  4%|███▋                                                                              | 9/200 [00:42<15:00,  4.72s/it]"
     ]
    },
    {
     "name": "stdout",
     "output_type": "stream",
     "text": [
      "https://reviewmeta.com/amazon/B07W64CDB9\n"
     ]
    },
    {
     "name": "stderr",
     "output_type": "stream",
     "text": [
      "\n",
      "\n",
      "  5%|████                                                                             | 10/200 [00:47<15:04,  4.76s/it]"
     ]
    },
    {
     "name": "stdout",
     "output_type": "stream",
     "text": [
      "https://reviewmeta.com/amazon/B07L631H8Q\n"
     ]
    },
    {
     "name": "stderr",
     "output_type": "stream",
     "text": [
      "\n",
      "\n",
      "  6%|████▍                                                                            | 11/200 [00:51<14:55,  4.74s/it]"
     ]
    },
    {
     "name": "stdout",
     "output_type": "stream",
     "text": [
      "https://reviewmeta.com/amazon/B07DGZJX6B\n"
     ]
    },
    {
     "name": "stderr",
     "output_type": "stream",
     "text": [
      "\n",
      "\n",
      "  6%|████▊                                                                            | 12/200 [00:56<14:45,  4.71s/it]"
     ]
    },
    {
     "name": "stdout",
     "output_type": "stream",
     "text": [
      "https://reviewmeta.com/amazon/B07SR83Y1W\n"
     ]
    },
    {
     "name": "stderr",
     "output_type": "stream",
     "text": [
      "\n",
      "\n",
      "  6%|█████▎                                                                           | 13/200 [01:00<14:35,  4.68s/it]"
     ]
    },
    {
     "name": "stdout",
     "output_type": "stream",
     "text": [
      "https://reviewmeta.com/amazon/B07W1KDNRV\n"
     ]
    },
    {
     "name": "stderr",
     "output_type": "stream",
     "text": [
      "\n",
      "\n",
      "  7%|█████▋                                                                           | 14/200 [01:05<14:30,  4.68s/it]"
     ]
    },
    {
     "name": "stdout",
     "output_type": "stream",
     "text": [
      "https://reviewmeta.com/amazon/B075CXMJB5\n"
     ]
    },
    {
     "name": "stderr",
     "output_type": "stream",
     "text": [
      "\n",
      "\n",
      "  8%|██████                                                                           | 15/200 [01:10<14:26,  4.68s/it]"
     ]
    },
    {
     "name": "stdout",
     "output_type": "stream",
     "text": [
      "https://reviewmeta.com/amazon/B07DLXF7XL\n"
     ]
    },
    {
     "name": "stderr",
     "output_type": "stream",
     "text": [
      "\n",
      "\n",
      "  8%|██████▍                                                                          | 16/200 [01:15<14:25,  4.70s/it]"
     ]
    },
    {
     "name": "stdout",
     "output_type": "stream",
     "text": [
      "https://reviewmeta.com/amazon/B079DL32QY\n"
     ]
    },
    {
     "name": "stderr",
     "output_type": "stream",
     "text": [
      "\n",
      "\n",
      "  8%|██████▉                                                                          | 17/200 [01:19<14:18,  4.69s/it]"
     ]
    },
    {
     "name": "stdout",
     "output_type": "stream",
     "text": [
      "https://reviewmeta.com/amazon/B07P9DXMJ6\n"
     ]
    },
    {
     "name": "stderr",
     "output_type": "stream",
     "text": [
      "\n",
      "\n",
      "  9%|███████▎                                                                         | 18/200 [01:24<14:16,  4.71s/it]"
     ]
    },
    {
     "name": "stdout",
     "output_type": "stream",
     "text": [
      "https://reviewmeta.com/amazon/B07T2YZC8W\n"
     ]
    },
    {
     "name": "stderr",
     "output_type": "stream",
     "text": [
      "\n",
      "\n",
      " 10%|███████▋                                                                         | 19/200 [01:29<14:17,  4.74s/it]"
     ]
    },
    {
     "name": "stdout",
     "output_type": "stream",
     "text": [
      "https://reviewmeta.com/amazon/B077QBQNL1\n"
     ]
    },
    {
     "name": "stderr",
     "output_type": "stream",
     "text": [
      "\n",
      "\n",
      " 10%|████████                                                                         | 20/200 [01:34<14:20,  4.78s/it]"
     ]
    },
    {
     "name": "stdout",
     "output_type": "stream",
     "text": [
      "https://reviewmeta.com/amazon/B07NKWQQYP\n"
     ]
    },
    {
     "name": "stderr",
     "output_type": "stream",
     "text": [
      "\n",
      "\n",
      " 10%|████████▌                                                                        | 21/200 [01:38<14:04,  4.72s/it]"
     ]
    },
    {
     "name": "stdout",
     "output_type": "stream",
     "text": [
      "https://reviewmeta.com/amazon/B0721735K9\n"
     ]
    },
    {
     "name": "stderr",
     "output_type": "stream",
     "text": [
      "\n",
      "\n",
      " 11%|████████▉                                                                        | 22/200 [01:43<13:53,  4.68s/it]"
     ]
    },
    {
     "name": "stdout",
     "output_type": "stream",
     "text": [
      "https://reviewmeta.com/amazon/B00VIXRB6O\n"
     ]
    },
    {
     "name": "stderr",
     "output_type": "stream",
     "text": [
      "\n",
      "\n",
      " 12%|█████████▎                                                                       | 23/200 [01:49<14:41,  4.98s/it]"
     ]
    },
    {
     "name": "stdout",
     "output_type": "stream",
     "text": [
      "https://reviewmeta.com/amazon/B00063446M\n"
     ]
    },
    {
     "name": "stderr",
     "output_type": "stream",
     "text": [
      "\n",
      "\n",
      " 12%|█████████▋                                                                       | 24/200 [01:55<15:30,  5.29s/it]"
     ]
    },
    {
     "name": "stdout",
     "output_type": "stream",
     "text": [
      "https://reviewmeta.com/amazon/B00074L4W2\n"
     ]
    },
    {
     "name": "stderr",
     "output_type": "stream",
     "text": [
      "\n",
      "\n",
      " 12%|██████████▏                                                                      | 25/200 [02:00<15:16,  5.23s/it]"
     ]
    },
    {
     "name": "stdout",
     "output_type": "stream",
     "text": [
      "https://reviewmeta.com/amazon/B0009811TW\n"
     ]
    },
    {
     "name": "stderr",
     "output_type": "stream",
     "text": [
      "\n",
      "\n",
      " 13%|██████████▌                                                                      | 26/200 [02:05<15:09,  5.23s/it]"
     ]
    },
    {
     "name": "stdout",
     "output_type": "stream",
     "text": [
      "https://reviewmeta.com/amazon/B00074L4RW\n"
     ]
    },
    {
     "name": "stderr",
     "output_type": "stream",
     "text": [
      "\n",
      "\n",
      " 14%|██████████▉                                                                      | 27/200 [02:09<14:33,  5.05s/it]"
     ]
    },
    {
     "name": "stdout",
     "output_type": "stream",
     "text": [
      "https://reviewmeta.com/amazon-ca/B000GEWHNS\n"
     ]
    },
    {
     "name": "stderr",
     "output_type": "stream",
     "text": [
      "\n",
      "\n",
      " 14%|███████████▎                                                                     | 28/200 [02:14<14:06,  4.92s/it]"
     ]
    },
    {
     "name": "stdout",
     "output_type": "stream",
     "text": [
      "https://reviewmeta.com/amazon/B000241NRI\n"
     ]
    },
    {
     "name": "stderr",
     "output_type": "stream",
     "text": [
      "\n",
      "\n",
      " 14%|███████████▋                                                                     | 29/200 [02:19<13:45,  4.83s/it]"
     ]
    },
    {
     "name": "stdout",
     "output_type": "stream",
     "text": [
      "https://reviewmeta.com/amazon/B00063496C\n"
     ]
    },
    {
     "name": "stderr",
     "output_type": "stream",
     "text": [
      "\n",
      "\n",
      " 15%|████████████▏                                                                    | 30/200 [02:23<13:33,  4.79s/it]"
     ]
    },
    {
     "name": "stdout",
     "output_type": "stream",
     "text": [
      "https://reviewmeta.com/amazon-uk/B00B17ETPI\n"
     ]
    },
    {
     "name": "stderr",
     "output_type": "stream",
     "text": [
      "\n",
      "\n",
      " 16%|████████████▌                                                                    | 31/200 [02:28<13:22,  4.75s/it]"
     ]
    },
    {
     "name": "stdout",
     "output_type": "stream",
     "text": [
      "https://reviewmeta.com/amazon-fr/B0011EZQ5I\n"
     ]
    },
    {
     "name": "stderr",
     "output_type": "stream",
     "text": [
      "\n",
      "\n",
      " 16%|████████████▉                                                                    | 32/200 [02:33<13:10,  4.71s/it]"
     ]
    },
    {
     "name": "stdout",
     "output_type": "stream",
     "text": [
      "https://reviewmeta.com/amazon-de/B00GOMW916\n"
     ]
    },
    {
     "name": "stderr",
     "output_type": "stream",
     "text": [
      "\n",
      "\n",
      " 16%|█████████████▎                                                                   | 33/200 [02:37<13:01,  4.68s/it]"
     ]
    },
    {
     "name": "stdout",
     "output_type": "stream",
     "text": [
      "https://reviewmeta.com/amazon/B071213DDY\n"
     ]
    },
    {
     "name": "stderr",
     "output_type": "stream",
     "text": [
      "\n",
      "\n",
      " 17%|█████████████▊                                                                   | 34/200 [02:42<12:53,  4.66s/it]"
     ]
    },
    {
     "name": "stdout",
     "output_type": "stream",
     "text": [
      "https://reviewmeta.com/amazon/B004488VQ4\n"
     ]
    },
    {
     "name": "stderr",
     "output_type": "stream",
     "text": [
      "\n",
      "\n",
      " 18%|██████████████▏                                                                  | 35/200 [02:47<13:16,  4.83s/it]"
     ]
    },
    {
     "name": "stdout",
     "output_type": "stream",
     "text": [
      "https://reviewmeta.com/amazon-uk/B00B17ETIU\n"
     ]
    },
    {
     "name": "stderr",
     "output_type": "stream",
     "text": [
      "\n",
      "\n",
      " 18%|██████████████▌                                                                  | 36/200 [02:52<12:52,  4.71s/it]"
     ]
    },
    {
     "name": "stdout",
     "output_type": "stream",
     "text": [
      "https://reviewmeta.com/amazon/B00K1J7DGE\n"
     ]
    },
    {
     "name": "stderr",
     "output_type": "stream",
     "text": [
      "\n",
      "\n",
      " 18%|██████████████▉                                                                  | 37/200 [02:56<12:37,  4.65s/it]"
     ]
    },
    {
     "name": "stdout",
     "output_type": "stream",
     "text": [
      "https://reviewmeta.com/amazon-uk/B00B23AUVS\n"
     ]
    },
    {
     "name": "stderr",
     "output_type": "stream",
     "text": [
      "\n",
      "\n",
      " 19%|███████████████▍                                                                 | 38/200 [03:01<12:36,  4.67s/it]"
     ]
    },
    {
     "name": "stdout",
     "output_type": "stream",
     "text": [
      "https://reviewmeta.com/amazon-ca/B00061RIT4\n"
     ]
    },
    {
     "name": "stderr",
     "output_type": "stream",
     "text": [
      "\n",
      "\n",
      " 20%|███████████████▊                                                                 | 39/200 [03:05<12:27,  4.64s/it]"
     ]
    },
    {
     "name": "stdout",
     "output_type": "stream",
     "text": [
      "https://reviewmeta.com/amazon/B00074L4Y0\n"
     ]
    },
    {
     "name": "stderr",
     "output_type": "stream",
     "text": [
      "\n",
      "\n",
      " 20%|████████████████▏                                                                | 40/200 [03:11<12:49,  4.81s/it]"
     ]
    },
    {
     "name": "stdout",
     "output_type": "stream",
     "text": [
      "https://reviewmeta.com/amazon/B00173CWDW\n"
     ]
    },
    {
     "name": "stderr",
     "output_type": "stream",
     "text": [
      "\n",
      "\n",
      " 20%|████████████████▌                                                                | 41/200 [03:15<12:40,  4.79s/it]"
     ]
    },
    {
     "name": "stdout",
     "output_type": "stream",
     "text": [
      "https://reviewmeta.com/amazon-de/B00LBY7TSU\n"
     ]
    },
    {
     "name": "stderr",
     "output_type": "stream",
     "text": [
      "\n",
      "\n",
      " 21%|█████████████████                                                                | 42/200 [03:20<12:26,  4.72s/it]"
     ]
    },
    {
     "name": "stdout",
     "output_type": "stream",
     "text": [
      "https://reviewmeta.com/amazon-de/B000GEWHNS\n"
     ]
    },
    {
     "name": "stderr",
     "output_type": "stream",
     "text": [
      "\n",
      "\n",
      " 22%|█████████████████▍                                                               | 43/200 [03:24<12:17,  4.69s/it]"
     ]
    },
    {
     "name": "stdout",
     "output_type": "stream",
     "text": [
      "https://reviewmeta.com/amazon-ca/B0056ASTES\n"
     ]
    },
    {
     "name": "stderr",
     "output_type": "stream",
     "text": [
      "\n",
      "\n",
      " 22%|█████████████████▊                                                               | 44/200 [03:29<12:09,  4.68s/it]"
     ]
    },
    {
     "name": "stdout",
     "output_type": "stream",
     "text": [
      "https://reviewmeta.com/amazon-ca/B00MPE5OYG\n"
     ]
    },
    {
     "name": "stderr",
     "output_type": "stream",
     "text": [
      "\n",
      "\n",
      " 22%|██████████████████▏                                                              | 45/200 [03:34<12:05,  4.68s/it]"
     ]
    },
    {
     "name": "stdout",
     "output_type": "stream",
     "text": [
      "https://reviewmeta.com/amazon-uk/B000LXVYOC\n"
     ]
    },
    {
     "name": "stderr",
     "output_type": "stream",
     "text": [
      "\n",
      "\n",
      " 23%|██████████████████▋                                                              | 46/200 [03:38<11:59,  4.67s/it]"
     ]
    },
    {
     "name": "stdout",
     "output_type": "stream",
     "text": [
      "https://reviewmeta.com/amazon-ca/B00MPE5PAO\n"
     ]
    },
    {
     "name": "stderr",
     "output_type": "stream",
     "text": [
      "\n",
      "\n",
      " 24%|███████████████████                                                              | 47/200 [03:43<11:53,  4.66s/it]"
     ]
    },
    {
     "name": "stdout",
     "output_type": "stream",
     "text": [
      "https://reviewmeta.com/amazon-uk/B00B17ETR6\n"
     ]
    },
    {
     "name": "stderr",
     "output_type": "stream",
     "text": [
      "\n",
      "\n",
      " 24%|███████████████████▍                                                             | 48/200 [03:48<11:44,  4.64s/it]"
     ]
    },
    {
     "name": "stdout",
     "output_type": "stream",
     "text": [
      "https://reviewmeta.com/amazon-fr/B0009811TW\n"
     ]
    },
    {
     "name": "stderr",
     "output_type": "stream",
     "text": [
      "\n",
      "\n",
      " 24%|███████████████████▊                                                             | 49/200 [03:52<11:37,  4.62s/it]"
     ]
    },
    {
     "name": "stdout",
     "output_type": "stream",
     "text": [
      "https://reviewmeta.com/amazon/B00074L4UO\n"
     ]
    },
    {
     "name": "stderr",
     "output_type": "stream",
     "text": [
      "\n",
      "\n",
      " 25%|████████████████████▎                                                            | 50/200 [03:57<11:34,  4.63s/it]"
     ]
    },
    {
     "name": "stdout",
     "output_type": "stream",
     "text": [
      "https://reviewmeta.com/amazon-ca/B000GF0X38\n"
     ]
    },
    {
     "name": "stderr",
     "output_type": "stream",
     "text": [
      "\n",
      "\n",
      " 26%|████████████████████▋                                                            | 51/200 [04:01<11:16,  4.54s/it]"
     ]
    },
    {
     "name": "stdout",
     "output_type": "stream",
     "text": [
      "https://reviewmeta.com/amazon-uk/B0016HNU12\n"
     ]
    },
    {
     "name": "stderr",
     "output_type": "stream",
     "text": [
      "\n",
      "\n",
      " 26%|█████████████████████                                                            | 52/200 [04:06<11:27,  4.64s/it]"
     ]
    },
    {
     "name": "stdout",
     "output_type": "stream",
     "text": [
      "https://reviewmeta.com/amazon/B00074L4O0\n"
     ]
    },
    {
     "name": "stderr",
     "output_type": "stream",
     "text": [
      "\n",
      "\n",
      " 26%|█████████████████████▍                                                           | 53/200 [04:11<11:25,  4.66s/it]"
     ]
    },
    {
     "name": "stdout",
     "output_type": "stream",
     "text": [
      "https://reviewmeta.com/amazon-ca/B00CWR8628\n"
     ]
    },
    {
     "name": "stderr",
     "output_type": "stream",
     "text": [
      "\n",
      "\n",
      " 27%|█████████████████████▊                                                           | 54/200 [04:15<11:12,  4.61s/it]"
     ]
    },
    {
     "name": "stdout",
     "output_type": "stream",
     "text": [
      "https://reviewmeta.com/amazon-ca/B0009811TW\n"
     ]
    },
    {
     "name": "stderr",
     "output_type": "stream",
     "text": [
      "\n",
      "\n",
      " 28%|██████████████████████▎                                                          | 55/200 [04:20<11:05,  4.59s/it]"
     ]
    },
    {
     "name": "stdout",
     "output_type": "stream",
     "text": [
      "https://reviewmeta.com/amazon/B00115F3FA\n"
     ]
    },
    {
     "name": "stderr",
     "output_type": "stream",
     "text": [
      "\n",
      "\n",
      " 28%|██████████████████████▋                                                          | 56/200 [04:25<11:06,  4.63s/it]"
     ]
    },
    {
     "name": "stdout",
     "output_type": "stream",
     "text": [
      "https://reviewmeta.com/amazon-uk/B00B17ETPS\n"
     ]
    },
    {
     "name": "stderr",
     "output_type": "stream",
     "text": [
      "\n",
      "\n",
      " 28%|███████████████████████                                                          | 57/200 [04:29<11:01,  4.63s/it]"
     ]
    },
    {
     "name": "stdout",
     "output_type": "stream",
     "text": [
      "https://reviewmeta.com/amazon-ca/B00023N7TG\n"
     ]
    },
    {
     "name": "stderr",
     "output_type": "stream",
     "text": [
      "\n",
      "\n",
      " 29%|███████████████████████▍                                                         | 58/200 [04:34<10:56,  4.63s/it]"
     ]
    },
    {
     "name": "stdout",
     "output_type": "stream",
     "text": [
      "https://reviewmeta.com/amazon-uk/B00IAOB4VC\n"
     ]
    },
    {
     "name": "stderr",
     "output_type": "stream",
     "text": [
      "\n",
      "\n",
      " 30%|███████████████████████▉                                                         | 59/200 [04:38<10:51,  4.62s/it]"
     ]
    },
    {
     "name": "stdout",
     "output_type": "stream",
     "text": [
      "https://reviewmeta.com/amazon-ca/B0018CG40O\n"
     ]
    },
    {
     "name": "stderr",
     "output_type": "stream",
     "text": [
      "\n",
      "\n",
      " 30%|████████████████████████▎                                                        | 60/200 [04:43<10:46,  4.62s/it]"
     ]
    },
    {
     "name": "stdout",
     "output_type": "stream",
     "text": [
      "https://reviewmeta.com/amazon-ca/B00EAPCD92\n"
     ]
    },
    {
     "name": "stderr",
     "output_type": "stream",
     "text": [
      "\n",
      "\n",
      " 30%|████████████████████████▋                                                        | 61/200 [04:48<10:40,  4.61s/it]"
     ]
    },
    {
     "name": "stdout",
     "output_type": "stream",
     "text": [
      "https://reviewmeta.com/amazon-fr/B0018CG40O\n"
     ]
    },
    {
     "name": "stderr",
     "output_type": "stream",
     "text": [
      "\n",
      "\n",
      " 31%|█████████████████████████                                                        | 62/200 [04:53<11:03,  4.81s/it]"
     ]
    },
    {
     "name": "stdout",
     "output_type": "stream",
     "text": [
      "https://reviewmeta.com/amazon/B00JZHRYGC\n"
     ]
    },
    {
     "name": "stderr",
     "output_type": "stream",
     "text": [
      "\n",
      "\n",
      " 32%|█████████████████████████▌                                                       | 63/200 [04:58<10:52,  4.76s/it]"
     ]
    },
    {
     "name": "stdout",
     "output_type": "stream",
     "text": [
      "https://reviewmeta.com/amazon-uk/B00L4CB9X0\n"
     ]
    },
    {
     "name": "stderr",
     "output_type": "stream",
     "text": [
      "\n",
      "\n",
      " 32%|█████████████████████████▉                                                       | 64/200 [05:02<10:30,  4.64s/it]"
     ]
    },
    {
     "name": "stdout",
     "output_type": "stream",
     "text": [
      "https://reviewmeta.com/amazon-uk/B000LXRCHA\n"
     ]
    },
    {
     "name": "stderr",
     "output_type": "stream",
     "text": [
      "\n",
      "\n",
      " 32%|██████████████████████████▎                                                      | 65/200 [05:06<10:21,  4.61s/it]"
     ]
    },
    {
     "name": "stdout",
     "output_type": "stream",
     "text": [
      "https://reviewmeta.com/amazon/B01HO8U5NC\n"
     ]
    },
    {
     "name": "stderr",
     "output_type": "stream",
     "text": [
      "\n",
      "\n",
      " 33%|██████████████████████████▋                                                      | 66/200 [05:11<10:27,  4.68s/it]"
     ]
    },
    {
     "name": "stdout",
     "output_type": "stream",
     "text": [
      "https://reviewmeta.com/amazon-fr/B00JV42HKC\n"
     ]
    },
    {
     "name": "stderr",
     "output_type": "stream",
     "text": [
      "\n",
      "\n",
      " 34%|███████████████████████████▏                                                     | 67/200 [05:16<10:23,  4.69s/it]"
     ]
    },
    {
     "name": "stdout",
     "output_type": "stream",
     "text": [
      "https://reviewmeta.com/amazon-ca/B002RT8M8O\n"
     ]
    },
    {
     "name": "stderr",
     "output_type": "stream",
     "text": [
      "\n",
      "\n",
      " 34%|███████████████████████████▌                                                     | 68/200 [05:21<10:17,  4.68s/it]"
     ]
    },
    {
     "name": "stdout",
     "output_type": "stream",
     "text": [
      "https://reviewmeta.com/amazon-uk/B00GOMW916\n"
     ]
    },
    {
     "name": "stderr",
     "output_type": "stream",
     "text": [
      "\n",
      "\n",
      " 34%|███████████████████████████▉                                                     | 69/200 [05:25<10:12,  4.68s/it]"
     ]
    },
    {
     "name": "stdout",
     "output_type": "stream",
     "text": [
      "https://reviewmeta.com/amazon-fr/B00L4CB9X0\n"
     ]
    },
    {
     "name": "stderr",
     "output_type": "stream",
     "text": [
      "\n",
      "\n",
      " 35%|████████████████████████████▎                                                    | 70/200 [05:30<10:03,  4.64s/it]"
     ]
    },
    {
     "name": "stdout",
     "output_type": "stream",
     "text": [
      "https://reviewmeta.com/amazon-ca/B001NIZAI0\n"
     ]
    },
    {
     "name": "stderr",
     "output_type": "stream",
     "text": [
      "\n",
      "\n",
      " 36%|████████████████████████████▊                                                    | 71/200 [05:35<10:00,  4.66s/it]"
     ]
    },
    {
     "name": "stdout",
     "output_type": "stream",
     "text": [
      "https://reviewmeta.com/amazon-uk/B00B23AWES\n"
     ]
    },
    {
     "name": "stderr",
     "output_type": "stream",
     "text": [
      "\n",
      "\n",
      " 36%|█████████████████████████████▏                                                   | 72/200 [05:39<09:58,  4.67s/it]"
     ]
    },
    {
     "name": "stdout",
     "output_type": "stream",
     "text": [
      "https://reviewmeta.com/amazon-ca/B00MPE5U2W\n"
     ]
    },
    {
     "name": "stderr",
     "output_type": "stream",
     "text": [
      "\n",
      "\n",
      " 36%|█████████████████████████████▌                                                   | 73/200 [05:44<09:55,  4.69s/it]"
     ]
    },
    {
     "name": "stdout",
     "output_type": "stream",
     "text": [
      "https://reviewmeta.com/amazon-uk/B005BOMR4M\n"
     ]
    },
    {
     "name": "stderr",
     "output_type": "stream",
     "text": [
      "\n",
      "\n",
      " 37%|█████████████████████████████▉                                                   | 74/200 [05:49<09:51,  4.69s/it]"
     ]
    },
    {
     "name": "stdout",
     "output_type": "stream",
     "text": [
      "https://reviewmeta.com/amazon/B00520EL58\n"
     ]
    },
    {
     "name": "stderr",
     "output_type": "stream",
     "text": [
      "\n",
      "\n",
      " 38%|██████████████████████████████▍                                                  | 75/200 [05:53<09:47,  4.70s/it]"
     ]
    },
    {
     "name": "stdout",
     "output_type": "stream",
     "text": [
      "https://reviewmeta.com/amazon-uk/B075RYQ35W\n"
     ]
    },
    {
     "name": "stderr",
     "output_type": "stream",
     "text": [
      "\n",
      "\n",
      " 38%|██████████████████████████████▊                                                  | 76/200 [05:59<10:05,  4.89s/it]"
     ]
    },
    {
     "name": "stdout",
     "output_type": "stream",
     "text": [
      "https://reviewmeta.com/amazon-ca/B000NHWMGU\n"
     ]
    },
    {
     "name": "stderr",
     "output_type": "stream",
     "text": [
      "\n",
      "\n",
      " 38%|███████████████████████████████▏                                                 | 77/200 [06:03<09:50,  4.80s/it]"
     ]
    },
    {
     "name": "stdout",
     "output_type": "stream",
     "text": [
      "https://reviewmeta.com/amazon-uk/B015J4ZEE8\n"
     ]
    },
    {
     "name": "stderr",
     "output_type": "stream",
     "text": [
      "\n",
      "\n",
      " 39%|███████████████████████████████▌                                                 | 78/200 [06:08<09:34,  4.71s/it]"
     ]
    },
    {
     "name": "stdout",
     "output_type": "stream",
     "text": [
      "https://reviewmeta.com/amazon-ca/B0762TKBL2\n"
     ]
    },
    {
     "name": "stderr",
     "output_type": "stream",
     "text": [
      "\n",
      "\n",
      " 40%|███████████████████████████████▉                                                 | 79/200 [06:13<09:27,  4.69s/it]"
     ]
    },
    {
     "name": "stdout",
     "output_type": "stream",
     "text": [
      "https://reviewmeta.com/amazon-fr/B0756GW8SJ\n"
     ]
    },
    {
     "name": "stderr",
     "output_type": "stream",
     "text": [
      "\n",
      "\n",
      " 40%|████████████████████████████████▍                                                | 80/200 [06:18<09:55,  4.96s/it]"
     ]
    },
    {
     "name": "stdout",
     "output_type": "stream",
     "text": [
      "https://reviewmeta.com/amazon-ca/B00068R98C\n"
     ]
    },
    {
     "name": "stderr",
     "output_type": "stream",
     "text": [
      "\n",
      "\n",
      " 40%|████████████████████████████████▊                                                | 81/200 [06:23<09:40,  4.88s/it]"
     ]
    },
    {
     "name": "stdout",
     "output_type": "stream",
     "text": [
      "https://reviewmeta.com/amazon/B00520EJXW\n"
     ]
    },
    {
     "name": "stderr",
     "output_type": "stream",
     "text": [
      "\n",
      "\n",
      " 41%|█████████████████████████████████▏                                               | 82/200 [06:28<09:49,  5.00s/it]"
     ]
    },
    {
     "name": "stdout",
     "output_type": "stream",
     "text": [
      "https://reviewmeta.com/amazon-ca/B00EAPCCW0\n"
     ]
    },
    {
     "name": "stderr",
     "output_type": "stream",
     "text": [
      "\n",
      "\n",
      " 42%|█████████████████████████████████▌                                               | 83/200 [06:33<09:31,  4.89s/it]"
     ]
    },
    {
     "name": "stdout",
     "output_type": "stream",
     "text": [
      "https://reviewmeta.com/amazon-ca/B000RIA95G\n"
     ]
    },
    {
     "name": "stderr",
     "output_type": "stream",
     "text": [
      "\n",
      "\n",
      " 42%|██████████████████████████████████                                               | 84/200 [06:37<09:22,  4.85s/it]"
     ]
    },
    {
     "name": "stdout",
     "output_type": "stream",
     "text": [
      "https://reviewmeta.com/amazon-uk/B0057H1HZI\n"
     ]
    },
    {
     "name": "stderr",
     "output_type": "stream",
     "text": [
      "\n",
      "\n",
      " 42%|██████████████████████████████████▍                                              | 85/200 [06:42<09:11,  4.80s/it]"
     ]
    },
    {
     "name": "stdout",
     "output_type": "stream",
     "text": [
      "https://reviewmeta.com/amazon-ca/B00CWR7HFK\n"
     ]
    },
    {
     "name": "stderr",
     "output_type": "stream",
     "text": [
      "\n",
      "\n",
      " 43%|██████████████████████████████████▊                                              | 86/200 [06:47<09:01,  4.75s/it]"
     ]
    },
    {
     "name": "stdout",
     "output_type": "stream",
     "text": [
      "https://reviewmeta.com/amazon-ca/B00QTCUV0C\n"
     ]
    },
    {
     "name": "stderr",
     "output_type": "stream",
     "text": [
      "\n",
      "\n",
      " 44%|███████████████████████████████████▏                                             | 87/200 [06:52<09:22,  4.98s/it]"
     ]
    },
    {
     "name": "stdout",
     "output_type": "stream",
     "text": [
      "https://reviewmeta.com/amazon-uk/B01ATS8NUQ\n"
     ]
    },
    {
     "name": "stderr",
     "output_type": "stream",
     "text": [
      "\n",
      "\n",
      " 44%|███████████████████████████████████▋                                             | 88/200 [06:57<09:07,  4.89s/it]"
     ]
    },
    {
     "name": "stdout",
     "output_type": "stream",
     "text": [
      "https://reviewmeta.com/amazon-ca/B00063496C\n"
     ]
    },
    {
     "name": "stderr",
     "output_type": "stream",
     "text": [
      "\n",
      "\n",
      " 44%|████████████████████████████████████                                             | 89/200 [07:02<08:53,  4.81s/it]"
     ]
    },
    {
     "name": "stdout",
     "output_type": "stream",
     "text": [
      "https://reviewmeta.com/amazon-fr/B005BOMTVS\n"
     ]
    },
    {
     "name": "stderr",
     "output_type": "stream",
     "text": [
      "\n",
      "\n",
      " 45%|████████████████████████████████████▍                                            | 90/200 [07:06<08:36,  4.69s/it]"
     ]
    },
    {
     "name": "stdout",
     "output_type": "stream",
     "text": [
      "https://reviewmeta.com/amazon-uk/B000RXVJEQ\n"
     ]
    },
    {
     "name": "stderr",
     "output_type": "stream",
     "text": [
      "\n",
      "\n",
      " 46%|████████████████████████████████████▊                                            | 91/200 [07:11<08:28,  4.67s/it]"
     ]
    },
    {
     "name": "stdout",
     "output_type": "stream",
     "text": [
      "https://reviewmeta.com/amazon-uk/B005BOMT72\n"
     ]
    },
    {
     "name": "stderr",
     "output_type": "stream",
     "text": [
      "\n",
      "\n",
      " 46%|█████████████████████████████████████▎                                           | 92/200 [07:15<08:21,  4.65s/it]"
     ]
    },
    {
     "name": "stdout",
     "output_type": "stream",
     "text": [
      "https://reviewmeta.com/amazon-ca/B002RT8M84\n"
     ]
    },
    {
     "name": "stderr",
     "output_type": "stream",
     "text": [
      "\n",
      "\n",
      " 46%|█████████████████████████████████████▋                                           | 93/200 [07:20<08:16,  4.64s/it]"
     ]
    },
    {
     "name": "stdout",
     "output_type": "stream",
     "text": [
      "https://reviewmeta.com/amazon-uk/B00IAOB50C\n"
     ]
    },
    {
     "name": "stderr",
     "output_type": "stream",
     "text": [
      "\n",
      "\n",
      " 47%|██████████████████████████████████████                                           | 94/200 [07:24<08:07,  4.60s/it]"
     ]
    },
    {
     "name": "stdout",
     "output_type": "stream",
     "text": [
      "https://reviewmeta.com/amazon-de/B075RYQ35W\n"
     ]
    },
    {
     "name": "stderr",
     "output_type": "stream",
     "text": [
      "\n",
      "\n",
      " 48%|██████████████████████████████████████▍                                          | 95/200 [07:29<08:05,  4.62s/it]"
     ]
    },
    {
     "name": "stdout",
     "output_type": "stream",
     "text": [
      "https://reviewmeta.com/amazon-ca/B000A7GZB6\n"
     ]
    },
    {
     "name": "stderr",
     "output_type": "stream",
     "text": [
      "\n",
      "\n",
      " 48%|██████████████████████████████████████▉                                          | 96/200 [07:34<08:10,  4.71s/it]"
     ]
    },
    {
     "name": "stdout",
     "output_type": "stream",
     "text": [
      "https://reviewmeta.com/amazon/B00652WUBO\n"
     ]
    },
    {
     "name": "stderr",
     "output_type": "stream",
     "text": [
      "\n",
      "\n",
      " 48%|███████████████████████████████████████▎                                         | 97/200 [07:39<08:01,  4.68s/it]"
     ]
    },
    {
     "name": "stdout",
     "output_type": "stream",
     "text": [
      "https://reviewmeta.com/amazon-ca/B00ESZGJZS\n"
     ]
    },
    {
     "name": "stderr",
     "output_type": "stream",
     "text": [
      "\n",
      "\n",
      " 49%|███████████████████████████████████████▋                                         | 98/200 [07:43<07:56,  4.67s/it]"
     ]
    },
    {
     "name": "stdout",
     "output_type": "stream",
     "text": [
      "https://reviewmeta.com/amazon/B00VV5TG08\n"
     ]
    },
    {
     "name": "stderr",
     "output_type": "stream",
     "text": [
      "\n",
      "\n",
      " 50%|████████████████████████████████████████                                         | 99/200 [07:48<07:51,  4.67s/it]"
     ]
    },
    {
     "name": "stdout",
     "output_type": "stream",
     "text": [
      "https://reviewmeta.com/amazon-fr/B0752XP3R5\n"
     ]
    },
    {
     "name": "stderr",
     "output_type": "stream",
     "text": [
      "\n",
      "\n",
      " 50%|████████████████████████████████████████                                        | 100/200 [07:52<07:43,  4.63s/it]"
     ]
    },
    {
     "name": "stdout",
     "output_type": "stream",
     "text": [
      "https://reviewmeta.com/amazon-fr/B001NI1S0O\n"
     ]
    },
    {
     "name": "stderr",
     "output_type": "stream",
     "text": [
      "\n",
      "\n",
      " 50%|████████████████████████████████████████▍                                       | 101/200 [07:57<07:34,  4.59s/it]"
     ]
    },
    {
     "name": "stdout",
     "output_type": "stream",
     "text": [
      "https://reviewmeta.com/amazon/B00JZHRYG2\n"
     ]
    },
    {
     "name": "stderr",
     "output_type": "stream",
     "text": [
      "\n",
      "\n",
      " 51%|████████████████████████████████████████▊                                       | 102/200 [08:02<07:35,  4.65s/it]"
     ]
    },
    {
     "name": "stdout",
     "output_type": "stream",
     "text": [
      "https://reviewmeta.com/amazon-ca/B0030DH1WE\n"
     ]
    },
    {
     "name": "stderr",
     "output_type": "stream",
     "text": [
      "\n",
      "\n",
      " 52%|█████████████████████████████████████████▏                                      | 103/200 [08:06<07:30,  4.65s/it]"
     ]
    },
    {
     "name": "stdout",
     "output_type": "stream",
     "text": [
      "https://reviewmeta.com/amazon-uk/B005BOMTVS\n"
     ]
    },
    {
     "name": "stderr",
     "output_type": "stream",
     "text": [
      "\n",
      "\n",
      " 52%|█████████████████████████████████████████▌                                      | 104/200 [08:11<07:29,  4.68s/it]"
     ]
    },
    {
     "name": "stdout",
     "output_type": "stream",
     "text": [
      "https://reviewmeta.com/amazon-de/B00VPYYR9A\n"
     ]
    },
    {
     "name": "stderr",
     "output_type": "stream",
     "text": [
      "\n",
      "\n",
      " 52%|██████████████████████████████████████████                                      | 105/200 [08:16<07:25,  4.69s/it]"
     ]
    },
    {
     "name": "stdout",
     "output_type": "stream",
     "text": [
      "https://reviewmeta.com/amazon-de/B00JV42HKC\n"
     ]
    },
    {
     "name": "stderr",
     "output_type": "stream",
     "text": [
      "\n",
      "\n",
      " 53%|██████████████████████████████████████████▍                                     | 106/200 [08:21<07:37,  4.87s/it]"
     ]
    },
    {
     "name": "stdout",
     "output_type": "stream",
     "text": [
      "https://reviewmeta.com/amazon/B00520EL4Y\n"
     ]
    },
    {
     "name": "stderr",
     "output_type": "stream",
     "text": [
      "\n",
      "\n",
      " 54%|██████████████████████████████████████████▊                                     | 107/200 [08:26<07:28,  4.82s/it]"
     ]
    },
    {
     "name": "stdout",
     "output_type": "stream",
     "text": [
      "https://reviewmeta.com/amazon-ca/B00VIXRB6O\n"
     ]
    },
    {
     "name": "stderr",
     "output_type": "stream",
     "text": [
      "\n",
      "\n",
      " 54%|███████████████████████████████████████████▏                                    | 108/200 [08:31<07:22,  4.81s/it]"
     ]
    },
    {
     "name": "stdout",
     "output_type": "stream",
     "text": [
      "https://reviewmeta.com/amazon-de/B00L4CB9X0\n"
     ]
    },
    {
     "name": "stderr",
     "output_type": "stream",
     "text": [
      "\n",
      "\n",
      " 55%|███████████████████████████████████████████▌                                    | 109/200 [08:35<07:12,  4.76s/it]"
     ]
    },
    {
     "name": "stdout",
     "output_type": "stream",
     "text": [
      "https://reviewmeta.com/amazon/B00062F6HE\n"
     ]
    },
    {
     "name": "stderr",
     "output_type": "stream",
     "text": [
      "\n",
      "\n",
      " 55%|████████████████████████████████████████████                                    | 110/200 [08:40<07:04,  4.72s/it]"
     ]
    },
    {
     "name": "stdout",
     "output_type": "stream",
     "text": [
      "https://reviewmeta.com/amazon/B00VPVGAPM\n"
     ]
    },
    {
     "name": "stderr",
     "output_type": "stream",
     "text": [
      "\n",
      "\n",
      " 56%|████████████████████████████████████████████▍                                   | 111/200 [08:44<06:57,  4.69s/it]"
     ]
    },
    {
     "name": "stdout",
     "output_type": "stream",
     "text": [
      "https://reviewmeta.com/amazon/B00520EL62\n"
     ]
    },
    {
     "name": "stderr",
     "output_type": "stream",
     "text": [
      "\n",
      "\n",
      " 56%|████████████████████████████████████████████▊                                   | 112/200 [08:49<06:50,  4.67s/it]"
     ]
    },
    {
     "name": "stdout",
     "output_type": "stream",
     "text": [
      "https://reviewmeta.com/amazon-de/B00K6F542I\n"
     ]
    },
    {
     "name": "stderr",
     "output_type": "stream",
     "text": [
      "\n",
      "\n",
      " 56%|█████████████████████████████████████████████▏                                  | 113/200 [08:54<06:47,  4.68s/it]"
     ]
    },
    {
     "name": "stdout",
     "output_type": "stream",
     "text": [
      "https://reviewmeta.com/amazon-de/B0013H5M1Q\n"
     ]
    },
    {
     "name": "stderr",
     "output_type": "stream",
     "text": [
      "\n",
      "\n",
      " 57%|█████████████████████████████████████████████▌                                  | 114/200 [08:58<06:40,  4.66s/it]"
     ]
    },
    {
     "name": "stdout",
     "output_type": "stream",
     "text": [
      "https://reviewmeta.com/amazon-ca/B000TZ57PE\n"
     ]
    },
    {
     "name": "stderr",
     "output_type": "stream",
     "text": [
      "\n",
      "\n",
      " 57%|██████████████████████████████████████████████                                  | 115/200 [09:03<06:36,  4.66s/it]"
     ]
    },
    {
     "name": "stdout",
     "output_type": "stream",
     "text": [
      "https://reviewmeta.com/amazon-ca/B001NIZAH6\n"
     ]
    },
    {
     "name": "stderr",
     "output_type": "stream",
     "text": [
      "\n",
      "\n",
      " 58%|██████████████████████████████████████████████▍                                 | 116/200 [09:08<06:30,  4.65s/it]"
     ]
    },
    {
     "name": "stdout",
     "output_type": "stream",
     "text": [
      "https://reviewmeta.com/amazon-fr/B00K6F542I\n"
     ]
    },
    {
     "name": "stderr",
     "output_type": "stream",
     "text": [
      "\n",
      "\n",
      " 58%|██████████████████████████████████████████████▊                                 | 117/200 [09:12<06:27,  4.67s/it]"
     ]
    },
    {
     "name": "stdout",
     "output_type": "stream",
     "text": [
      "https://reviewmeta.com/amazon-uk/B000RXY4H0\n"
     ]
    },
    {
     "name": "stderr",
     "output_type": "stream",
     "text": [
      "\n",
      "\n",
      " 59%|███████████████████████████████████████████████▏                                | 118/200 [09:17<06:21,  4.65s/it]"
     ]
    },
    {
     "name": "stdout",
     "output_type": "stream",
     "text": [
      "https://reviewmeta.com/amazon/B00076NXW4\n"
     ]
    },
    {
     "name": "stderr",
     "output_type": "stream",
     "text": [
      "\n",
      "\n",
      " 60%|███████████████████████████████████████████████▌                                | 119/200 [09:22<06:23,  4.73s/it]"
     ]
    },
    {
     "name": "stdout",
     "output_type": "stream",
     "text": [
      "https://reviewmeta.com/amazon-ca/B005BOMTVS\n"
     ]
    },
    {
     "name": "stderr",
     "output_type": "stream",
     "text": [
      "\n",
      "\n",
      " 60%|████████████████████████████████████████████████                                | 120/200 [09:27<06:15,  4.70s/it]"
     ]
    },
    {
     "name": "stdout",
     "output_type": "stream",
     "text": [
      "https://reviewmeta.com/amazon-ca/B004MXPIMQ\n"
     ]
    },
    {
     "name": "stderr",
     "output_type": "stream",
     "text": [
      "\n",
      "\n",
      " 60%|████████████████████████████████████████████████▍                               | 121/200 [09:31<06:08,  4.67s/it]"
     ]
    },
    {
     "name": "stdout",
     "output_type": "stream",
     "text": [
      "https://reviewmeta.com/amazon-uk/B005BOMRB0\n"
     ]
    },
    {
     "name": "stderr",
     "output_type": "stream",
     "text": [
      "\n",
      "\n",
      " 61%|████████████████████████████████████████████████▊                               | 122/200 [09:36<06:03,  4.66s/it]"
     ]
    },
    {
     "name": "stdout",
     "output_type": "stream",
     "text": [
      "https://reviewmeta.com/amazon-ca/B01HI5ZXN8\n"
     ]
    },
    {
     "name": "stderr",
     "output_type": "stream",
     "text": [
      "\n",
      "\n",
      " 62%|█████████████████████████████████████████████████▏                              | 123/200 [09:40<05:58,  4.65s/it]"
     ]
    },
    {
     "name": "stdout",
     "output_type": "stream",
     "text": [
      "https://reviewmeta.com/amazon-ca/B0017DGFSA\n"
     ]
    },
    {
     "name": "stderr",
     "output_type": "stream",
     "text": [
      "\n",
      "\n",
      " 62%|█████████████████████████████████████████████████▌                              | 124/200 [09:45<05:52,  4.64s/it]"
     ]
    },
    {
     "name": "stdout",
     "output_type": "stream",
     "text": [
      "https://reviewmeta.com/amazon-ca/B002RT8M9I\n"
     ]
    },
    {
     "name": "stderr",
     "output_type": "stream",
     "text": [
      "\n",
      "\n",
      " 62%|██████████████████████████████████████████████████                              | 125/200 [09:50<05:48,  4.64s/it]"
     ]
    },
    {
     "name": "stdout",
     "output_type": "stream",
     "text": [
      "https://reviewmeta.com/amazon-ca/B005BOMR4M\n"
     ]
    },
    {
     "name": "stderr",
     "output_type": "stream",
     "text": [
      "\n",
      "\n",
      " 63%|██████████████████████████████████████████████████▍                             | 126/200 [09:54<05:43,  4.64s/it]"
     ]
    },
    {
     "name": "stdout",
     "output_type": "stream",
     "text": [
      "https://reviewmeta.com/amazon-fr/B075RYQ35W\n"
     ]
    },
    {
     "name": "stderr",
     "output_type": "stream",
     "text": [
      "\n",
      "\n",
      " 64%|██████████████████████████████████████████████████▊                             | 127/200 [09:59<05:44,  4.72s/it]"
     ]
    },
    {
     "name": "stdout",
     "output_type": "stream",
     "text": [
      "https://reviewmeta.com/amazon/B00T3X1W52\n"
     ]
    },
    {
     "name": "stderr",
     "output_type": "stream",
     "text": [
      "\n",
      "\n",
      " 64%|███████████████████████████████████████████████████▏                            | 128/200 [10:04<05:45,  4.79s/it]"
     ]
    },
    {
     "name": "stdout",
     "output_type": "stream",
     "text": [
      "https://reviewmeta.com/amazon-fr/B0030DH1WE\n"
     ]
    },
    {
     "name": "stderr",
     "output_type": "stream",
     "text": [
      "\n",
      "\n",
      " 64%|███████████████████████████████████████████████████▌                            | 129/200 [10:10<05:57,  5.03s/it]"
     ]
    },
    {
     "name": "stdout",
     "output_type": "stream",
     "text": [
      "https://reviewmeta.com/amazon-fr/B00I04Y7RA\n"
     ]
    },
    {
     "name": "stderr",
     "output_type": "stream",
     "text": [
      "\n",
      "\n",
      " 65%|████████████████████████████████████████████████████                            | 130/200 [10:14<05:44,  4.92s/it]"
     ]
    },
    {
     "name": "stdout",
     "output_type": "stream",
     "text": [
      "https://reviewmeta.com/amazon-ca/B005HNPD34\n"
     ]
    },
    {
     "name": "stderr",
     "output_type": "stream",
     "text": [
      "\n",
      "\n",
      " 66%|████████████████████████████████████████████████████▍                           | 131/200 [10:19<05:33,  4.84s/it]"
     ]
    },
    {
     "name": "stdout",
     "output_type": "stream",
     "text": [
      "https://reviewmeta.com/amazon-ca/B000GF1O22\n"
     ]
    },
    {
     "name": "stderr",
     "output_type": "stream",
     "text": [
      "\n",
      "\n",
      " 66%|████████████████████████████████████████████████████▊                           | 132/200 [10:24<05:25,  4.78s/it]"
     ]
    },
    {
     "name": "stdout",
     "output_type": "stream",
     "text": [
      "https://reviewmeta.com/amazon-uk/B017N6IF5U\n"
     ]
    },
    {
     "name": "stderr",
     "output_type": "stream",
     "text": [
      "\n",
      "\n",
      " 66%|█████████████████████████████████████████████████████▏                          | 133/200 [10:29<05:21,  4.79s/it]"
     ]
    },
    {
     "name": "stdout",
     "output_type": "stream",
     "text": [
      "https://reviewmeta.com/amazon-uk/B00CWR7HFK\n"
     ]
    },
    {
     "name": "stderr",
     "output_type": "stream",
     "text": [
      "\n",
      "\n",
      " 67%|█████████████████████████████████████████████████████▌                          | 134/200 [10:33<05:13,  4.76s/it]"
     ]
    },
    {
     "name": "stdout",
     "output_type": "stream",
     "text": [
      "https://reviewmeta.com/amazon-ca/B002RT8M52\n"
     ]
    },
    {
     "name": "stderr",
     "output_type": "stream",
     "text": [
      "\n",
      "\n",
      " 68%|██████████████████████████████████████████████████████                          | 135/200 [10:38<05:12,  4.81s/it]"
     ]
    },
    {
     "name": "stdout",
     "output_type": "stream",
     "text": [
      "https://reviewmeta.com/amazon-ca/B000JCWAWA\n"
     ]
    },
    {
     "name": "stderr",
     "output_type": "stream",
     "text": [
      "\n",
      "\n",
      " 68%|██████████████████████████████████████████████████████▍                         | 136/200 [10:43<05:08,  4.82s/it]"
     ]
    },
    {
     "name": "stdout",
     "output_type": "stream",
     "text": [
      "https://reviewmeta.com/amazon-ca/B005HNPCY4\n"
     ]
    },
    {
     "name": "stderr",
     "output_type": "stream",
     "text": [
      "\n",
      "\n",
      " 68%|██████████████████████████████████████████████████████▊                         | 137/200 [10:48<04:59,  4.76s/it]"
     ]
    },
    {
     "name": "stdout",
     "output_type": "stream",
     "text": [
      "https://reviewmeta.com/amazon-uk/B005BOMS00\n"
     ]
    },
    {
     "name": "stderr",
     "output_type": "stream",
     "text": [
      "\n",
      "\n",
      " 69%|███████████████████████████████████████████████████████▏                        | 138/200 [10:52<04:55,  4.76s/it]"
     ]
    },
    {
     "name": "stdout",
     "output_type": "stream",
     "text": [
      "https://reviewmeta.com/amazon-ca/B004UORHXK\n"
     ]
    },
    {
     "name": "stderr",
     "output_type": "stream",
     "text": [
      "\n",
      "\n",
      " 70%|███████████████████████████████████████████████████████▌                        | 139/200 [10:57<04:44,  4.66s/it]"
     ]
    },
    {
     "name": "stdout",
     "output_type": "stream",
     "text": [
      "https://reviewmeta.com/amazon-ca/B000WJ2GJ2\n"
     ]
    },
    {
     "name": "stderr",
     "output_type": "stream",
     "text": [
      "\n",
      "\n",
      " 70%|████████████████████████████████████████████████████████                        | 140/200 [11:01<04:39,  4.66s/it]"
     ]
    },
    {
     "name": "stdout",
     "output_type": "stream",
     "text": [
      "https://reviewmeta.com/amazon-ca/B00L4CB9X0\n"
     ]
    },
    {
     "name": "stderr",
     "output_type": "stream",
     "text": [
      "\n",
      "\n",
      " 70%|████████████████████████████████████████████████████████▍                       | 141/200 [11:06<04:34,  4.65s/it]"
     ]
    },
    {
     "name": "stdout",
     "output_type": "stream",
     "text": [
      "https://reviewmeta.com/amazon-ca/B004MXPILM\n"
     ]
    },
    {
     "name": "stderr",
     "output_type": "stream",
     "text": [
      "\n",
      "\n",
      " 71%|████████████████████████████████████████████████████████▊                       | 142/200 [11:12<04:42,  4.88s/it]"
     ]
    },
    {
     "name": "stdout",
     "output_type": "stream",
     "text": [
      "https://reviewmeta.com/amazon-de/B00YYL14FG\n"
     ]
    },
    {
     "name": "stderr",
     "output_type": "stream",
     "text": [
      "\n",
      "\n",
      " 72%|█████████████████████████████████████████████████████████▏                      | 143/200 [11:16<04:34,  4.81s/it]"
     ]
    },
    {
     "name": "stdout",
     "output_type": "stream",
     "text": [
      "https://reviewmeta.com/amazon-uk/B005BOMQV6\n"
     ]
    },
    {
     "name": "stderr",
     "output_type": "stream",
     "text": [
      "\n",
      "\n",
      " 72%|█████████████████████████████████████████████████████████▌                      | 144/200 [11:21<04:28,  4.79s/it]"
     ]
    },
    {
     "name": "stdout",
     "output_type": "stream",
     "text": [
      "https://reviewmeta.com/amazon-uk/B000MD57OO\n"
     ]
    },
    {
     "name": "stderr",
     "output_type": "stream",
     "text": [
      "\n",
      "\n",
      " 72%|██████████████████████████████████████████████████████████                      | 145/200 [11:26<04:20,  4.74s/it]"
     ]
    },
    {
     "name": "stdout",
     "output_type": "stream",
     "text": [
      "https://reviewmeta.com/amazon-de/B0756GW8SJ\n"
     ]
    },
    {
     "name": "stderr",
     "output_type": "stream",
     "text": [
      "\n",
      "\n",
      " 73%|██████████████████████████████████████████████████████████▍                     | 146/200 [11:30<04:14,  4.71s/it]"
     ]
    },
    {
     "name": "stdout",
     "output_type": "stream",
     "text": [
      "https://reviewmeta.com/amazon/B00DLQXJ6W\n"
     ]
    },
    {
     "name": "stderr",
     "output_type": "stream",
     "text": [
      "\n",
      "\n",
      " 74%|██████████████████████████████████████████████████████████▊                     | 147/200 [11:35<04:10,  4.72s/it]"
     ]
    },
    {
     "name": "stdout",
     "output_type": "stream",
     "text": [
      "https://reviewmeta.com/amazon-ca/B0006TQU36\n"
     ]
    },
    {
     "name": "stderr",
     "output_type": "stream",
     "text": [
      "\n",
      "\n",
      " 74%|███████████████████████████████████████████████████████████▏                    | 148/200 [11:40<04:04,  4.70s/it]"
     ]
    },
    {
     "name": "stdout",
     "output_type": "stream",
     "text": [
      "https://reviewmeta.com/amazon-ca/B001FK7ZB6\n"
     ]
    },
    {
     "name": "stderr",
     "output_type": "stream",
     "text": [
      "\n",
      "\n",
      " 74%|███████████████████████████████████████████████████████████▌                    | 149/200 [11:44<03:58,  4.67s/it]"
     ]
    },
    {
     "name": "stdout",
     "output_type": "stream",
     "text": [
      "https://reviewmeta.com/amazon-fr/B00VIXRB6O\n"
     ]
    },
    {
     "name": "stderr",
     "output_type": "stream",
     "text": [
      "\n",
      "\n",
      " 75%|████████████████████████████████████████████████████████████                    | 150/200 [11:49<03:53,  4.68s/it]"
     ]
    },
    {
     "name": "stdout",
     "output_type": "stream",
     "text": [
      "https://reviewmeta.com/amazon-de/B004MXJU5M\n"
     ]
    },
    {
     "name": "stderr",
     "output_type": "stream",
     "text": [
      "\n",
      "\n",
      " 76%|████████████████████████████████████████████████████████████▍                   | 151/200 [11:55<04:08,  5.08s/it]"
     ]
    },
    {
     "name": "stdout",
     "output_type": "stream",
     "text": [
      "https://reviewmeta.com/amazon-ca/B00HCA45TI\n"
     ]
    },
    {
     "name": "stderr",
     "output_type": "stream",
     "text": [
      "\n",
      "\n",
      " 76%|████████████████████████████████████████████████████████████▊                   | 152/200 [12:00<03:59,  5.00s/it]"
     ]
    },
    {
     "name": "stdout",
     "output_type": "stream",
     "text": [
      "https://reviewmeta.com/amazon-ca/B000WJ5W5W\n"
     ]
    },
    {
     "name": "stderr",
     "output_type": "stream",
     "text": [
      "\n",
      "\n",
      " 76%|█████████████████████████████████████████████████████████████▏                  | 153/200 [12:04<03:49,  4.89s/it]"
     ]
    },
    {
     "name": "stdout",
     "output_type": "stream",
     "text": [
      "https://reviewmeta.com/amazon-ca/B00EE13P7Q\n"
     ]
    },
    {
     "name": "stderr",
     "output_type": "stream",
     "text": [
      "\n",
      "\n",
      " 77%|█████████████████████████████████████████████████████████████▌                  | 154/200 [12:09<03:41,  4.81s/it]"
     ]
    },
    {
     "name": "stdout",
     "output_type": "stream",
     "text": [
      "https://reviewmeta.com/amazon-ca/B0013DJFQS\n"
     ]
    },
    {
     "name": "stderr",
     "output_type": "stream",
     "text": [
      "\n",
      "\n",
      " 78%|██████████████████████████████████████████████████████████████                  | 155/200 [12:14<03:33,  4.74s/it]"
     ]
    },
    {
     "name": "stdout",
     "output_type": "stream",
     "text": [
      "https://reviewmeta.com/amazon-uk/B0010B8CHG\n"
     ]
    },
    {
     "name": "stderr",
     "output_type": "stream",
     "text": [
      "\n",
      "\n",
      " 78%|██████████████████████████████████████████████████████████████▍                 | 156/200 [12:18<03:26,  4.70s/it]"
     ]
    },
    {
     "name": "stdout",
     "output_type": "stream",
     "text": [
      "https://reviewmeta.com/amazon-ca/B0011EZQ5I\n"
     ]
    },
    {
     "name": "stderr",
     "output_type": "stream",
     "text": [
      "\n",
      "\n",
      " 78%|██████████████████████████████████████████████████████████████▊                 | 157/200 [12:23<03:23,  4.73s/it]"
     ]
    },
    {
     "name": "stdout",
     "output_type": "stream",
     "text": [
      "https://reviewmeta.com/amazon-ca/B00MPE5P1I\n"
     ]
    },
    {
     "name": "stderr",
     "output_type": "stream",
     "text": [
      "\n",
      "\n",
      " 79%|███████████████████████████████████████████████████████████████▏                | 158/200 [12:28<03:19,  4.75s/it]"
     ]
    },
    {
     "name": "stdout",
     "output_type": "stream",
     "text": [
      "https://reviewmeta.com/amazon-de/B004MXPILM\n"
     ]
    },
    {
     "name": "stderr",
     "output_type": "stream",
     "text": [
      "\n",
      "\n",
      " 80%|███████████████████████████████████████████████████████████████▌                | 159/200 [12:32<03:13,  4.71s/it]"
     ]
    },
    {
     "name": "stdout",
     "output_type": "stream",
     "text": [
      "https://reviewmeta.com/amazon-ca/B00L4CBA8Y\n"
     ]
    },
    {
     "name": "stderr",
     "output_type": "stream",
     "text": [
      "\n",
      "\n",
      " 80%|████████████████████████████████████████████████████████████████                | 160/200 [12:37<03:04,  4.60s/it]"
     ]
    },
    {
     "name": "stdout",
     "output_type": "stream",
     "text": [
      "https://reviewmeta.com/amazon-uk/B0013H5M1Q\n"
     ]
    },
    {
     "name": "stderr",
     "output_type": "stream",
     "text": [
      "\n",
      "\n",
      " 80%|████████████████████████████████████████████████████████████████▍               | 161/200 [12:41<02:59,  4.60s/it]"
     ]
    },
    {
     "name": "stdout",
     "output_type": "stream",
     "text": [
      "https://reviewmeta.com/amazon-fr/B015WPTMB0\n"
     ]
    },
    {
     "name": "stderr",
     "output_type": "stream",
     "text": [
      "\n",
      "\n",
      " 81%|████████████████████████████████████████████████████████████████▊               | 162/200 [12:46<02:55,  4.61s/it]"
     ]
    },
    {
     "name": "stdout",
     "output_type": "stream",
     "text": [
      "https://reviewmeta.com/amazon-ca/B01EA7E88I\n"
     ]
    },
    {
     "name": "stderr",
     "output_type": "stream",
     "text": [
      "\n",
      "\n",
      " 82%|█████████████████████████████████████████████████████████████████▏              | 163/200 [12:51<02:55,  4.75s/it]"
     ]
    },
    {
     "name": "stdout",
     "output_type": "stream",
     "text": [
      "https://reviewmeta.com/amazon-uk/B00CM8SCV2\n"
     ]
    },
    {
     "name": "stderr",
     "output_type": "stream",
     "text": [
      "\n",
      "\n",
      " 82%|█████████████████████████████████████████████████████████████████▌              | 164/200 [12:55<02:48,  4.67s/it]"
     ]
    },
    {
     "name": "stdout",
     "output_type": "stream",
     "text": [
      "https://reviewmeta.com/amazon/B00WFKJWLG\n"
     ]
    },
    {
     "name": "stderr",
     "output_type": "stream",
     "text": [
      "\n",
      "\n",
      " 82%|██████████████████████████████████████████████████████████████████              | 165/200 [13:02<03:01,  5.19s/it]"
     ]
    },
    {
     "name": "stdout",
     "output_type": "stream",
     "text": [
      "https://reviewmeta.com/amazon-ca/B0030DH1WO\n"
     ]
    },
    {
     "name": "stderr",
     "output_type": "stream",
     "text": [
      "\n",
      "\n",
      " 83%|██████████████████████████████████████████████████████████████████▍             | 166/200 [13:07<02:50,  5.02s/it]"
     ]
    },
    {
     "name": "stdout",
     "output_type": "stream",
     "text": [
      "https://reviewmeta.com/amazon-fr/B017N6IF5U\n"
     ]
    },
    {
     "name": "stderr",
     "output_type": "stream",
     "text": [
      "\n",
      "\n",
      " 84%|██████████████████████████████████████████████████████████████████▊             | 167/200 [13:11<02:41,  4.90s/it]"
     ]
    },
    {
     "name": "stdout",
     "output_type": "stream",
     "text": [
      "https://reviewmeta.com/amazon-ca/B0030DH1XI\n"
     ]
    },
    {
     "name": "stderr",
     "output_type": "stream",
     "text": [
      "\n",
      "\n",
      " 84%|███████████████████████████████████████████████████████████████████▏            | 168/200 [13:16<02:33,  4.81s/it]"
     ]
    },
    {
     "name": "stdout",
     "output_type": "stream",
     "text": [
      "https://reviewmeta.com/amazon/B00074L4ZE\n"
     ]
    },
    {
     "name": "stderr",
     "output_type": "stream",
     "text": [
      "\n",
      "\n",
      " 84%|███████████████████████████████████████████████████████████████████▌            | 169/200 [13:21<02:32,  4.93s/it]"
     ]
    },
    {
     "name": "stdout",
     "output_type": "stream",
     "text": [
      "https://reviewmeta.com/amazon/B00QTCUV0C\n"
     ]
    },
    {
     "name": "stderr",
     "output_type": "stream",
     "text": [
      "\n",
      "\n",
      " 85%|████████████████████████████████████████████████████████████████████            | 170/200 [13:26<02:24,  4.82s/it]"
     ]
    },
    {
     "name": "stdout",
     "output_type": "stream",
     "text": [
      "https://reviewmeta.com/amazon-ca/B012F869RM\n"
     ]
    },
    {
     "name": "stderr",
     "output_type": "stream",
     "text": [
      "\n",
      "\n",
      " 86%|████████████████████████████████████████████████████████████████████▍           | 171/200 [13:30<02:16,  4.72s/it]"
     ]
    },
    {
     "name": "stdout",
     "output_type": "stream",
     "text": [
      "https://reviewmeta.com/amazon-de/B00FXSQM10\n"
     ]
    },
    {
     "name": "stderr",
     "output_type": "stream",
     "text": [
      "\n",
      "\n",
      " 86%|████████████████████████████████████████████████████████████████████▊           | 172/200 [13:35<02:11,  4.69s/it]"
     ]
    },
    {
     "name": "stdout",
     "output_type": "stream",
     "text": [
      "https://reviewmeta.com/amazon-fr/B00ZEGHR10\n"
     ]
    },
    {
     "name": "stderr",
     "output_type": "stream",
     "text": [
      "\n",
      "\n",
      " 86%|█████████████████████████████████████████████████████████████████████▏          | 173/200 [13:39<02:05,  4.65s/it]"
     ]
    },
    {
     "name": "stdout",
     "output_type": "stream",
     "text": [
      "https://reviewmeta.com/amazon-fr/B01EVDZPX8\n"
     ]
    },
    {
     "name": "stderr",
     "output_type": "stream",
     "text": [
      "\n",
      "\n",
      " 87%|█████████████████████████████████████████████████████████████████████▌          | 174/200 [13:44<02:00,  4.62s/it]"
     ]
    },
    {
     "name": "stdout",
     "output_type": "stream",
     "text": [
      "https://reviewmeta.com/amazon-de/B000RL6NXU\n"
     ]
    },
    {
     "name": "stderr",
     "output_type": "stream",
     "text": [
      "\n",
      "\n",
      " 88%|██████████████████████████████████████████████████████████████████████          | 175/200 [13:48<01:55,  4.62s/it]"
     ]
    },
    {
     "name": "stdout",
     "output_type": "stream",
     "text": [
      "https://reviewmeta.com/amazon-ca/B000ELSM1E\n"
     ]
    },
    {
     "name": "stderr",
     "output_type": "stream",
     "text": [
      "\n",
      "\n",
      " 88%|██████████████████████████████████████████████████████████████████████▍         | 176/200 [13:54<01:54,  4.78s/it]"
     ]
    },
    {
     "name": "stdout",
     "output_type": "stream",
     "text": [
      "https://reviewmeta.com/amazon-uk/B01ATS8O5U\n"
     ]
    },
    {
     "name": "stderr",
     "output_type": "stream",
     "text": [
      "\n",
      "\n",
      " 88%|██████████████████████████████████████████████████████████████████████▊         | 177/200 [13:58<01:51,  4.83s/it]"
     ]
    },
    {
     "name": "stdout",
     "output_type": "stream",
     "text": [
      "https://reviewmeta.com/amazon-ca/B00OZMOQM2\n"
     ]
    },
    {
     "name": "stderr",
     "output_type": "stream",
     "text": [
      "\n",
      "\n",
      " 89%|███████████████████████████████████████████████████████████████████████▏        | 178/200 [14:03<01:43,  4.69s/it]"
     ]
    },
    {
     "name": "stdout",
     "output_type": "stream",
     "text": [
      "https://reviewmeta.com/amazon-ca/B003P443C4\n"
     ]
    },
    {
     "name": "stderr",
     "output_type": "stream",
     "text": [
      "\n",
      "\n",
      " 90%|███████████████████████████████████████████████████████████████████████▌        | 179/200 [14:07<01:37,  4.66s/it]"
     ]
    },
    {
     "name": "stdout",
     "output_type": "stream",
     "text": [
      "https://reviewmeta.com/amazon-ca/B01MDPCX4U\n"
     ]
    },
    {
     "name": "stderr",
     "output_type": "stream",
     "text": [
      "\n",
      "\n",
      " 90%|████████████████████████████████████████████████████████████████████████        | 180/200 [14:12<01:32,  4.64s/it]"
     ]
    },
    {
     "name": "stdout",
     "output_type": "stream",
     "text": [
      "https://reviewmeta.com/amazon-de/B003F76Y8C\n"
     ]
    },
    {
     "name": "stderr",
     "output_type": "stream",
     "text": [
      "\n",
      "\n",
      " 90%|████████████████████████████████████████████████████████████████████████▍       | 181/200 [14:17<01:27,  4.63s/it]"
     ]
    },
    {
     "name": "stdout",
     "output_type": "stream",
     "text": [
      "https://reviewmeta.com/amazon-ca/B000BQU9J0\n"
     ]
    },
    {
     "name": "stderr",
     "output_type": "stream",
     "text": [
      "\n",
      "\n",
      " 91%|████████████████████████████████████████████████████████████████████████▊       | 182/200 [14:21<01:21,  4.54s/it]"
     ]
    },
    {
     "name": "stdout",
     "output_type": "stream",
     "text": [
      "https://reviewmeta.com/amazon-uk/B00VIXRB6O\n"
     ]
    },
    {
     "name": "stderr",
     "output_type": "stream",
     "text": [
      "\n",
      "\n",
      " 92%|█████████████████████████████████████████████████████████████████████████▏      | 183/200 [14:26<01:18,  4.59s/it]"
     ]
    },
    {
     "name": "stdout",
     "output_type": "stream",
     "text": [
      "https://reviewmeta.com/amazon-ca/B000W73M10\n"
     ]
    },
    {
     "name": "stderr",
     "output_type": "stream",
     "text": [
      "\n",
      "\n",
      " 92%|█████████████████████████████████████████████████████████████████████████▌      | 184/200 [14:30<01:13,  4.58s/it]"
     ]
    },
    {
     "name": "stdout",
     "output_type": "stream",
     "text": [
      "https://reviewmeta.com/amazon-uk/B0018CG40O\n"
     ]
    },
    {
     "name": "stderr",
     "output_type": "stream",
     "text": [
      "\n",
      "\n",
      " 92%|██████████████████████████████████████████████████████████████████████████      | 185/200 [14:35<01:08,  4.59s/it]"
     ]
    },
    {
     "name": "stdout",
     "output_type": "stream",
     "text": [
      "https://reviewmeta.com/amazon-uk/B015J4ZDPI\n"
     ]
    },
    {
     "name": "stderr",
     "output_type": "stream",
     "text": [
      "\n",
      "\n",
      " 93%|██████████████████████████████████████████████████████████████████████████▍     | 186/200 [14:39<01:04,  4.61s/it]"
     ]
    },
    {
     "name": "stdout",
     "output_type": "stream",
     "text": [
      "https://reviewmeta.com/amazon-ca/B002DCWA4C\n"
     ]
    },
    {
     "name": "stderr",
     "output_type": "stream",
     "text": [
      "\n",
      "\n",
      " 94%|██████████████████████████████████████████████████████████████████████████▊     | 187/200 [14:44<00:59,  4.62s/it]"
     ]
    },
    {
     "name": "stdout",
     "output_type": "stream",
     "text": [
      "https://reviewmeta.com/amazon-ca/B017N6IF5U\n"
     ]
    },
    {
     "name": "stderr",
     "output_type": "stream",
     "text": [
      "\n",
      "\n",
      " 94%|███████████████████████████████████████████████████████████████████████████▏    | 188/200 [14:49<00:55,  4.61s/it]"
     ]
    },
    {
     "name": "stdout",
     "output_type": "stream",
     "text": [
      "https://reviewmeta.com/amazon-uk/B005BOMP8K\n"
     ]
    },
    {
     "name": "stderr",
     "output_type": "stream",
     "text": [
      "\n",
      "\n",
      " 94%|███████████████████████████████████████████████████████████████████████████▌    | 189/200 [14:53<00:51,  4.64s/it]"
     ]
    },
    {
     "name": "stdout",
     "output_type": "stream",
     "text": [
      "https://reviewmeta.com/amazon-ca/B0002IJQYQ\n"
     ]
    },
    {
     "name": "stderr",
     "output_type": "stream",
     "text": [
      "\n",
      "\n",
      " 95%|████████████████████████████████████████████████████████████████████████████    | 190/200 [14:58<00:46,  4.68s/it]"
     ]
    },
    {
     "name": "stdout",
     "output_type": "stream",
     "text": [
      "https://reviewmeta.com/amazon/B00DDXS9QI\n"
     ]
    },
    {
     "name": "stderr",
     "output_type": "stream",
     "text": [
      "\n",
      "\n",
      " 96%|████████████████████████████████████████████████████████████████████████████▍   | 191/200 [15:04<00:44,  4.89s/it]"
     ]
    },
    {
     "name": "stdout",
     "output_type": "stream",
     "text": [
      "https://reviewmeta.com/amazon-uk/B00YYL14FG\n"
     ]
    },
    {
     "name": "stderr",
     "output_type": "stream",
     "text": [
      "\n",
      "\n",
      " 96%|████████████████████████████████████████████████████████████████████████████▊   | 192/200 [15:08<00:38,  4.81s/it]"
     ]
    },
    {
     "name": "stdout",
     "output_type": "stream",
     "text": [
      "https://reviewmeta.com/amazon-uk/B005BOMPWG\n"
     ]
    },
    {
     "name": "stderr",
     "output_type": "stream",
     "text": [
      "\n",
      "\n",
      " 96%|█████████████████████████████████████████████████████████████████████████████▏  | 193/200 [15:13<00:33,  4.75s/it]"
     ]
    },
    {
     "name": "stdout",
     "output_type": "stream",
     "text": [
      "https://reviewmeta.com/amazon-fr/B000241NRI\n"
     ]
    },
    {
     "name": "stderr",
     "output_type": "stream",
     "text": [
      "\n",
      "\n",
      " 97%|█████████████████████████████████████████████████████████████████████████████▌  | 194/200 [15:17<00:28,  4.71s/it]"
     ]
    },
    {
     "name": "stdout",
     "output_type": "stream",
     "text": [
      "https://reviewmeta.com/amazon-uk/B075GMPL2D\n"
     ]
    },
    {
     "name": "stderr",
     "output_type": "stream",
     "text": [
      "\n",
      "\n",
      " 98%|██████████████████████████████████████████████████████████████████████████████  | 195/200 [15:22<00:23,  4.67s/it]"
     ]
    },
    {
     "name": "stdout",
     "output_type": "stream",
     "text": [
      "https://reviewmeta.com/amazon-uk/B00CW9XWXE\n"
     ]
    },
    {
     "name": "stderr",
     "output_type": "stream",
     "text": [
      "\n",
      "\n",
      " 98%|██████████████████████████████████████████████████████████████████████████████▍ | 196/200 [15:27<00:18,  4.69s/it]"
     ]
    },
    {
     "name": "stdout",
     "output_type": "stream",
     "text": [
      "https://reviewmeta.com/amazon-fr/B000GF1O22\n"
     ]
    },
    {
     "name": "stderr",
     "output_type": "stream",
     "text": [
      "\n",
      "\n",
      " 98%|██████████████████████████████████████████████████████████████████████████████▊ | 197/200 [15:32<00:14,  4.79s/it]"
     ]
    },
    {
     "name": "stdout",
     "output_type": "stream",
     "text": [
      "https://reviewmeta.com/amazon/B00652WSLQ\n"
     ]
    },
    {
     "name": "stderr",
     "output_type": "stream",
     "text": [
      "\n",
      "\n",
      " 99%|███████████████████████████████████████████████████████████████████████████████▏| 198/200 [15:37<00:09,  4.89s/it]"
     ]
    },
    {
     "name": "stdout",
     "output_type": "stream",
     "text": [
      "https://reviewmeta.com/amazon-fr/B0756GQXKT\n"
     ]
    },
    {
     "name": "stderr",
     "output_type": "stream",
     "text": [
      "\n",
      "\n",
      "100%|███████████████████████████████████████████████████████████████████████████████▌| 199/200 [15:41<00:04,  4.81s/it]"
     ]
    },
    {
     "name": "stdout",
     "output_type": "stream",
     "text": [
      "https://reviewmeta.com/amazon-fr/B00EAPCCW0\n"
     ]
    },
    {
     "name": "stderr",
     "output_type": "stream",
     "text": [
      "\n",
      "\n",
      "100%|████████████████████████████████████████████████████████████████████████████████| 200/200 [15:46<00:00,  4.73s/it]\n"
     ]
    },
    {
     "name": "stdout",
     "output_type": "stream",
     "text": [
      "Completed\n"
     ]
    }
   ],
   "source": [
    "for i in tqdm(range(0,len(source_product))):\n",
    "    time.sleep(1) #Hold 1 seconds before the next scrape.\n",
    "    num=str(i)\n",
    "  #  url = source_product[\"URL\"][i]\n",
    "    product = source_product[\"product\"][i]\n",
    "    source = checksource (source_product[\"Source\"][i])\n",
    "    path = os.getcwd() + '\\\\reviewmeta_pages\\\\'\n",
    "    filename = product +\"_\"+ source + '.htm'\n",
    "    review_meta_url = 'https://reviewmeta.com/'+ source +'/'+ product\n",
    "    print(review_meta_url)\n",
    "    response = requests.get(review_meta_url, headers = headers)\n",
    "    time.sleep(3)\n",
    "    with open(path + filename, 'w', encoding=\"utf8\") as file:\n",
    "        file.write(response.text)\n",
    "\n",
    "print('Completed')"
   ]
  },
  {
   "cell_type": "code",
   "execution_count": 53,
   "metadata": {
    "scrolled": false
   },
   "outputs": [],
   "source": [
    "review_dataframe_mega = pd.DataFrame()\n",
    "files = os.listdir(path)\n",
    "for file_name in files:\n",
    "   \n",
    "    f = open(\"{}{}\".format(path,file_name),\"r\", encoding=\"utf-8\").read()  #creating the path \n",
    "    soup = BeautifulSoup(f)\n",
    "    if (soup.find_all(\"div\",id = \"sample_reviews\") != []):\n",
    "        review_dataframe_mega = pd.concat([review_dataframe_mega, get_review_df_per_soup(soup, file_name.split(\"_\")[-2])], ignore_index=True)\n",
    "    else:\n",
    "        problematic.append(file_name.split(\"_\")[0])"
   ]
  },
  {
   "cell_type": "code",
   "execution_count": 55,
   "metadata": {},
   "outputs": [
    {
     "data": {
      "text/plain": [
       "['B0018CG40O',\n",
       " 'B001NI1S0O',\n",
       " 'B005BOMS00',\n",
       " 'B00B17ETIU',\n",
       " 'B00CM8SCV2',\n",
       " 'B00CWR8628',\n",
       " 'B00DLQXJ6W',\n",
       " 'B00IAOB50C',\n",
       " 'B00K1J7DGE',\n",
       " 'B00L4CB9X0',\n",
       " 'B00L4CBA8Y',\n",
       " 'B00QTCUV0C',\n",
       " 'B012F869RM',\n",
       " 'B01HO8U5NC',\n",
       " 'B0018CG40O',\n",
       " 'B001NI1S0O',\n",
       " 'B005BOMS00',\n",
       " 'B00B17ETIU',\n",
       " 'B00CM8SCV2',\n",
       " 'B00CWR8628',\n",
       " 'B00DLQXJ6W',\n",
       " 'B00IAOB50C',\n",
       " 'B00K1J7DGE',\n",
       " 'B00L4CB9X0',\n",
       " 'B00L4CBA8Y',\n",
       " 'B00QTCUV0C',\n",
       " 'B012F869RM',\n",
       " 'B01HO8U5NC']"
      ]
     },
     "execution_count": 55,
     "metadata": {},
     "output_type": "execute_result"
    }
   ],
   "source": [
    "problematic"
   ]
  },
  {
   "cell_type": "code",
   "execution_count": 56,
   "metadata": {},
   "outputs": [],
   "source": [
    "review_dataframe_mega.to_csv(\"review_dataframe_mega.csv\")"
   ]
  },
  {
   "cell_type": "code",
   "execution_count": 57,
   "metadata": {
    "scrolled": true
   },
   "outputs": [
    {
     "data": {
      "text/html": [
       "<div>\n",
       "<style scoped>\n",
       "    .dataframe tbody tr th:only-of-type {\n",
       "        vertical-align: middle;\n",
       "    }\n",
       "\n",
       "    .dataframe tbody tr th {\n",
       "        vertical-align: top;\n",
       "    }\n",
       "\n",
       "    .dataframe thead th {\n",
       "        text-align: right;\n",
       "    }\n",
       "</style>\n",
       "<table border=\"1\" class=\"dataframe\">\n",
       "  <thead>\n",
       "    <tr style=\"text-align: right;\">\n",
       "      <th></th>\n",
       "      <th>product</th>\n",
       "      <th>trust</th>\n",
       "      <th>review_rating</th>\n",
       "      <th>review_title</th>\n",
       "      <th>reviewer_details</th>\n",
       "      <th>reviewer_link_RM</th>\n",
       "      <th>rvwr_text_Amazon</th>\n",
       "      <th>rvwr_link_Amazon</th>\n",
       "      <th>Amazon_ID</th>\n",
       "      <th>Verified_Purchases</th>\n",
       "      <th>...</th>\n",
       "      <th>Overrep_wrd_cnt</th>\n",
       "      <th>Easy_grade_rating</th>\n",
       "      <th>Overlapping_rev_history</th>\n",
       "      <th>Brand_Rep_freq</th>\n",
       "      <th>Brand_rep_rating</th>\n",
       "      <th>One_hit</th>\n",
       "      <th>incentivized</th>\n",
       "      <th>Brand_repeater</th>\n",
       "      <th>Brand_Loyalist</th>\n",
       "      <th>Brand_Monogamist</th>\n",
       "    </tr>\n",
       "  </thead>\n",
       "  <tbody>\n",
       "    <tr>\n",
       "      <td>0</td>\n",
       "      <td>B00023N7TG</td>\n",
       "      <td>1.00</td>\n",
       "      <td>5</td>\n",
       "      <td>installed very nicely and quick</td>\n",
       "      <td>\\n Verified PurchaserReviewer: Laurie Lalonde\\...</td>\n",
       "      <td>https://reviewmeta.com/profile/amazon-ca/A2OH6...</td>\n",
       "      <td>\\n\\t\\t\\t\\tI purchased this pet door for my scr...</td>\n",
       "      <td>https://www.amazon.ca/gp/customer-reviews/R1NU...</td>\n",
       "      <td>R1NUJUAU9AGLL5</td>\n",
       "      <td>1</td>\n",
       "      <td>...</td>\n",
       "      <td>0</td>\n",
       "      <td>5.0</td>\n",
       "      <td>0.0</td>\n",
       "      <td>0</td>\n",
       "      <td>0.0</td>\n",
       "      <td>0</td>\n",
       "      <td>0</td>\n",
       "      <td>0</td>\n",
       "      <td>0</td>\n",
       "      <td>0</td>\n",
       "    </tr>\n",
       "    <tr>\n",
       "      <td>1</td>\n",
       "      <td>B00023N7TG</td>\n",
       "      <td>1.00</td>\n",
       "      <td>4</td>\n",
       "      <td>Doggy Independence!</td>\n",
       "      <td>\\n Verified PurchaserReviewer: alcar\\n\\n Criti...</td>\n",
       "      <td>https://reviewmeta.com/profile/amazon-ca/A16FB...</td>\n",
       "      <td>\\n\\t\\t\\t\\tBought this for our small \"min pin\" ...</td>\n",
       "      <td>https://www.amazon.ca/gp/customer-reviews/R2BC...</td>\n",
       "      <td>R2BCHBGRSCZM3Y</td>\n",
       "      <td>1</td>\n",
       "      <td>...</td>\n",
       "      <td>0</td>\n",
       "      <td>0.0</td>\n",
       "      <td>0.0</td>\n",
       "      <td>0</td>\n",
       "      <td>0.0</td>\n",
       "      <td>0</td>\n",
       "      <td>0</td>\n",
       "      <td>0</td>\n",
       "      <td>0</td>\n",
       "      <td>0</td>\n",
       "    </tr>\n",
       "    <tr>\n",
       "      <td>2</td>\n",
       "      <td>B00023N7TG</td>\n",
       "      <td>1.00</td>\n",
       "      <td>5</td>\n",
       "      <td>Very pleased with the purchase</td>\n",
       "      <td>\\n Verified PurchaserReviewer: Xinavane Mawu K...</td>\n",
       "      <td>https://reviewmeta.com/profile/amazon-ca/AE5KV...</td>\n",
       "      <td>\\n\\t\\t\\t\\tMy cat learned to use it the same da...</td>\n",
       "      <td>https://www.amazon.ca/gp/customer-reviews/R1FR...</td>\n",
       "      <td>R1FRJXL59II5IA</td>\n",
       "      <td>1</td>\n",
       "      <td>...</td>\n",
       "      <td>0</td>\n",
       "      <td>4.8</td>\n",
       "      <td>0.0</td>\n",
       "      <td>0</td>\n",
       "      <td>0.0</td>\n",
       "      <td>0</td>\n",
       "      <td>0</td>\n",
       "      <td>0</td>\n",
       "      <td>0</td>\n",
       "      <td>0</td>\n",
       "    </tr>\n",
       "    <tr>\n",
       "      <td>3</td>\n",
       "      <td>B00023N7TG</td>\n",
       "      <td>1.00</td>\n",
       "      <td>3</td>\n",
       "      <td>Flimsy and not ideal for some pets</td>\n",
       "      <td>\\n Verified PurchaserReviewer: Andrea L.\\n\\n E...</td>\n",
       "      <td>https://reviewmeta.com/profile/amazon-ca/AEXBG...</td>\n",
       "      <td>\\n\\t\\t\\t\\tI wish I liked this but the problem ...</td>\n",
       "      <td>https://www.amazon.ca/gp/customer-reviews/R276...</td>\n",
       "      <td>R2763N5LVHQ78L</td>\n",
       "      <td>1</td>\n",
       "      <td>...</td>\n",
       "      <td>0</td>\n",
       "      <td>5.0</td>\n",
       "      <td>0.0</td>\n",
       "      <td>0</td>\n",
       "      <td>0.0</td>\n",
       "      <td>0</td>\n",
       "      <td>0</td>\n",
       "      <td>0</td>\n",
       "      <td>0</td>\n",
       "      <td>0</td>\n",
       "    </tr>\n",
       "    <tr>\n",
       "      <td>4</td>\n",
       "      <td>B00023N7TG</td>\n",
       "      <td>1.00</td>\n",
       "      <td>4</td>\n",
       "      <td>Must be screwed together</td>\n",
       "      <td>\\n Verified PurchaserReviewer: GregH\\n\\n Take-...</td>\n",
       "      <td>https://reviewmeta.com/profile/amazon-ca/A1OOZ...</td>\n",
       "      <td>\\n\\t\\t\\t\\tI have purchased 2 of these and inst...</td>\n",
       "      <td>https://www.amazon.ca/gp/customer-reviews/R169...</td>\n",
       "      <td>R169RU505Q79CN</td>\n",
       "      <td>1</td>\n",
       "      <td>...</td>\n",
       "      <td>0</td>\n",
       "      <td>4.7</td>\n",
       "      <td>0.0</td>\n",
       "      <td>0</td>\n",
       "      <td>0.0</td>\n",
       "      <td>0</td>\n",
       "      <td>0</td>\n",
       "      <td>0</td>\n",
       "      <td>0</td>\n",
       "      <td>0</td>\n",
       "    </tr>\n",
       "    <tr>\n",
       "      <td>...</td>\n",
       "      <td>...</td>\n",
       "      <td>...</td>\n",
       "      <td>...</td>\n",
       "      <td>...</td>\n",
       "      <td>...</td>\n",
       "      <td>...</td>\n",
       "      <td>...</td>\n",
       "      <td>...</td>\n",
       "      <td>...</td>\n",
       "      <td>...</td>\n",
       "      <td>...</td>\n",
       "      <td>...</td>\n",
       "      <td>...</td>\n",
       "      <td>...</td>\n",
       "      <td>...</td>\n",
       "      <td>...</td>\n",
       "      <td>...</td>\n",
       "      <td>...</td>\n",
       "      <td>...</td>\n",
       "      <td>...</td>\n",
       "      <td>...</td>\n",
       "    </tr>\n",
       "    <tr>\n",
       "      <td>3118</td>\n",
       "      <td>B07XBKYWQ2</td>\n",
       "      <td>0.19</td>\n",
       "      <td>1</td>\n",
       "      <td>Not good</td>\n",
       "      <td>\\n Verified PurchaserReviewer: christopher b v...</td>\n",
       "      <td>https://reviewmeta.com/profile/amazon/AHT5F3JP...</td>\n",
       "      <td>\\n\\t\\t\\t\\tIt will not hold a charge. Now it is...</td>\n",
       "      <td>https://smile.amazon.com/gp/customer-reviews/R...</td>\n",
       "      <td>R5NZA03U327XB</td>\n",
       "      <td>1</td>\n",
       "      <td>...</td>\n",
       "      <td>0</td>\n",
       "      <td>0.0</td>\n",
       "      <td>0.0</td>\n",
       "      <td>0</td>\n",
       "      <td>0.0</td>\n",
       "      <td>1</td>\n",
       "      <td>0</td>\n",
       "      <td>0</td>\n",
       "      <td>0</td>\n",
       "      <td>0</td>\n",
       "    </tr>\n",
       "    <tr>\n",
       "      <td>3119</td>\n",
       "      <td>B07XBKYWQ2</td>\n",
       "      <td>0.19</td>\n",
       "      <td>1</td>\n",
       "      <td>Did not work consistently.</td>\n",
       "      <td>\\n Verified PurchaserReviewer: Karen\\n\\n One-H...</td>\n",
       "      <td>https://reviewmeta.com/profile/amazon/AFMBQ5NW...</td>\n",
       "      <td>\\n\\t\\t\\t\\tDisappointed in this product. It wor...</td>\n",
       "      <td>https://smile.amazon.com/gp/customer-reviews/R...</td>\n",
       "      <td>R1BAUMS94BKB60</td>\n",
       "      <td>1</td>\n",
       "      <td>...</td>\n",
       "      <td>0</td>\n",
       "      <td>0.0</td>\n",
       "      <td>0.0</td>\n",
       "      <td>0</td>\n",
       "      <td>0.0</td>\n",
       "      <td>1</td>\n",
       "      <td>0</td>\n",
       "      <td>0</td>\n",
       "      <td>0</td>\n",
       "      <td>0</td>\n",
       "    </tr>\n",
       "    <tr>\n",
       "      <td>3120</td>\n",
       "      <td>B07XBKYWQ2</td>\n",
       "      <td>0.19</td>\n",
       "      <td>5</td>\n",
       "      <td>Great product</td>\n",
       "      <td>\\n Verified PurchaserReviewer: Christie Johnso...</td>\n",
       "      <td>https://reviewmeta.com/profile/amazon/AGLQHS77...</td>\n",
       "      <td>\\n\\t\\t\\t\\tProduct works great [Go to full revi...</td>\n",
       "      <td>https://smile.amazon.com/gp/customer-reviews/R...</td>\n",
       "      <td>R2YKF7JWRM254M</td>\n",
       "      <td>1</td>\n",
       "      <td>...</td>\n",
       "      <td>0</td>\n",
       "      <td>5.0</td>\n",
       "      <td>0.0</td>\n",
       "      <td>0</td>\n",
       "      <td>0.0</td>\n",
       "      <td>1</td>\n",
       "      <td>0</td>\n",
       "      <td>0</td>\n",
       "      <td>0</td>\n",
       "      <td>0</td>\n",
       "    </tr>\n",
       "    <tr>\n",
       "      <td>3121</td>\n",
       "      <td>B07XBKYWQ2</td>\n",
       "      <td>0.19</td>\n",
       "      <td>5</td>\n",
       "      <td>Happy</td>\n",
       "      <td>\\n Verified PurchaserReviewer: Edwin D Harris\\...</td>\n",
       "      <td>https://reviewmeta.com/profile/amazon/AFGXU56U...</td>\n",
       "      <td>\\n\\t\\t\\t\\tGood product [Go to full review]\\n</td>\n",
       "      <td>https://smile.amazon.com/gp/customer-reviews/R...</td>\n",
       "      <td>R2EPWJ76F9YXVS</td>\n",
       "      <td>1</td>\n",
       "      <td>...</td>\n",
       "      <td>0</td>\n",
       "      <td>5.0</td>\n",
       "      <td>0.0</td>\n",
       "      <td>0</td>\n",
       "      <td>0.0</td>\n",
       "      <td>1</td>\n",
       "      <td>0</td>\n",
       "      <td>0</td>\n",
       "      <td>0</td>\n",
       "      <td>0</td>\n",
       "    </tr>\n",
       "    <tr>\n",
       "      <td>3122</td>\n",
       "      <td>B07XBKYWQ2</td>\n",
       "      <td>0.19</td>\n",
       "      <td>4</td>\n",
       "      <td>Great remote &amp; receiver. Cheap collar.</td>\n",
       "      <td>\\n Verified PurchaserReviewer: Brian Boegersha...</td>\n",
       "      <td>https://reviewmeta.com/profile/amazon/AHE7YIWJ...</td>\n",
       "      <td>\\n\\t\\t\\t\\tThe remote and receiver are awesome....</td>\n",
       "      <td>https://smile.amazon.com/gp/customer-reviews/R...</td>\n",
       "      <td>R1YVM2YQN1633X</td>\n",
       "      <td>1</td>\n",
       "      <td>...</td>\n",
       "      <td>0</td>\n",
       "      <td>0.0</td>\n",
       "      <td>0.0</td>\n",
       "      <td>0</td>\n",
       "      <td>0.0</td>\n",
       "      <td>1</td>\n",
       "      <td>0</td>\n",
       "      <td>0</td>\n",
       "      <td>0</td>\n",
       "      <td>0</td>\n",
       "    </tr>\n",
       "  </tbody>\n",
       "</table>\n",
       "<p>3123 rows × 27 columns</p>\n",
       "</div>"
      ],
      "text/plain": [
       "         product  trust review_rating                            review_title  \\\n",
       "0     B00023N7TG   1.00             5         installed very nicely and quick   \n",
       "1     B00023N7TG   1.00             4                     Doggy Independence!   \n",
       "2     B00023N7TG   1.00             5          Very pleased with the purchase   \n",
       "3     B00023N7TG   1.00             3      Flimsy and not ideal for some pets   \n",
       "4     B00023N7TG   1.00             4                Must be screwed together   \n",
       "...          ...    ...           ...                                     ...   \n",
       "3118  B07XBKYWQ2   0.19             1                                Not good   \n",
       "3119  B07XBKYWQ2   0.19             1              Did not work consistently.   \n",
       "3120  B07XBKYWQ2   0.19             5                           Great product   \n",
       "3121  B07XBKYWQ2   0.19             5                                   Happy   \n",
       "3122  B07XBKYWQ2   0.19             4  Great remote & receiver. Cheap collar.   \n",
       "\n",
       "                                       reviewer_details  \\\n",
       "0     \\n Verified PurchaserReviewer: Laurie Lalonde\\...   \n",
       "1     \\n Verified PurchaserReviewer: alcar\\n\\n Criti...   \n",
       "2     \\n Verified PurchaserReviewer: Xinavane Mawu K...   \n",
       "3     \\n Verified PurchaserReviewer: Andrea L.\\n\\n E...   \n",
       "4     \\n Verified PurchaserReviewer: GregH\\n\\n Take-...   \n",
       "...                                                 ...   \n",
       "3118  \\n Verified PurchaserReviewer: christopher b v...   \n",
       "3119  \\n Verified PurchaserReviewer: Karen\\n\\n One-H...   \n",
       "3120  \\n Verified PurchaserReviewer: Christie Johnso...   \n",
       "3121  \\n Verified PurchaserReviewer: Edwin D Harris\\...   \n",
       "3122  \\n Verified PurchaserReviewer: Brian Boegersha...   \n",
       "\n",
       "                                       reviewer_link_RM  \\\n",
       "0     https://reviewmeta.com/profile/amazon-ca/A2OH6...   \n",
       "1     https://reviewmeta.com/profile/amazon-ca/A16FB...   \n",
       "2     https://reviewmeta.com/profile/amazon-ca/AE5KV...   \n",
       "3     https://reviewmeta.com/profile/amazon-ca/AEXBG...   \n",
       "4     https://reviewmeta.com/profile/amazon-ca/A1OOZ...   \n",
       "...                                                 ...   \n",
       "3118  https://reviewmeta.com/profile/amazon/AHT5F3JP...   \n",
       "3119  https://reviewmeta.com/profile/amazon/AFMBQ5NW...   \n",
       "3120  https://reviewmeta.com/profile/amazon/AGLQHS77...   \n",
       "3121  https://reviewmeta.com/profile/amazon/AFGXU56U...   \n",
       "3122  https://reviewmeta.com/profile/amazon/AHE7YIWJ...   \n",
       "\n",
       "                                       rvwr_text_Amazon  \\\n",
       "0     \\n\\t\\t\\t\\tI purchased this pet door for my scr...   \n",
       "1     \\n\\t\\t\\t\\tBought this for our small \"min pin\" ...   \n",
       "2     \\n\\t\\t\\t\\tMy cat learned to use it the same da...   \n",
       "3     \\n\\t\\t\\t\\tI wish I liked this but the problem ...   \n",
       "4     \\n\\t\\t\\t\\tI have purchased 2 of these and inst...   \n",
       "...                                                 ...   \n",
       "3118  \\n\\t\\t\\t\\tIt will not hold a charge. Now it is...   \n",
       "3119  \\n\\t\\t\\t\\tDisappointed in this product. It wor...   \n",
       "3120  \\n\\t\\t\\t\\tProduct works great [Go to full revi...   \n",
       "3121       \\n\\t\\t\\t\\tGood product [Go to full review]\\n   \n",
       "3122  \\n\\t\\t\\t\\tThe remote and receiver are awesome....   \n",
       "\n",
       "                                       rvwr_link_Amazon       Amazon_ID  \\\n",
       "0     https://www.amazon.ca/gp/customer-reviews/R1NU...  R1NUJUAU9AGLL5   \n",
       "1     https://www.amazon.ca/gp/customer-reviews/R2BC...  R2BCHBGRSCZM3Y   \n",
       "2     https://www.amazon.ca/gp/customer-reviews/R1FR...  R1FRJXL59II5IA   \n",
       "3     https://www.amazon.ca/gp/customer-reviews/R276...  R2763N5LVHQ78L   \n",
       "4     https://www.amazon.ca/gp/customer-reviews/R169...  R169RU505Q79CN   \n",
       "...                                                 ...             ...   \n",
       "3118  https://smile.amazon.com/gp/customer-reviews/R...   R5NZA03U327XB   \n",
       "3119  https://smile.amazon.com/gp/customer-reviews/R...  R1BAUMS94BKB60   \n",
       "3120  https://smile.amazon.com/gp/customer-reviews/R...  R2YKF7JWRM254M   \n",
       "3121  https://smile.amazon.com/gp/customer-reviews/R...  R2EPWJ76F9YXVS   \n",
       "3122  https://smile.amazon.com/gp/customer-reviews/R...  R1YVM2YQN1633X   \n",
       "\n",
       "      Verified_Purchases  ...  Overrep_wrd_cnt  Easy_grade_rating  \\\n",
       "0                      1  ...                0                5.0   \n",
       "1                      1  ...                0                0.0   \n",
       "2                      1  ...                0                4.8   \n",
       "3                      1  ...                0                5.0   \n",
       "4                      1  ...                0                4.7   \n",
       "...                  ...  ...              ...                ...   \n",
       "3118                   1  ...                0                0.0   \n",
       "3119                   1  ...                0                0.0   \n",
       "3120                   1  ...                0                5.0   \n",
       "3121                   1  ...                0                5.0   \n",
       "3122                   1  ...                0                0.0   \n",
       "\n",
       "      Overlapping_rev_history  Brand_Rep_freq  Brand_rep_rating  One_hit  \\\n",
       "0                         0.0               0               0.0        0   \n",
       "1                         0.0               0               0.0        0   \n",
       "2                         0.0               0               0.0        0   \n",
       "3                         0.0               0               0.0        0   \n",
       "4                         0.0               0               0.0        0   \n",
       "...                       ...             ...               ...      ...   \n",
       "3118                      0.0               0               0.0        1   \n",
       "3119                      0.0               0               0.0        1   \n",
       "3120                      0.0               0               0.0        1   \n",
       "3121                      0.0               0               0.0        1   \n",
       "3122                      0.0               0               0.0        1   \n",
       "\n",
       "      incentivized  Brand_repeater  Brand_Loyalist  Brand_Monogamist  \n",
       "0                0               0               0                 0  \n",
       "1                0               0               0                 0  \n",
       "2                0               0               0                 0  \n",
       "3                0               0               0                 0  \n",
       "4                0               0               0                 0  \n",
       "...            ...             ...             ...               ...  \n",
       "3118             0               0               0                 0  \n",
       "3119             0               0               0                 0  \n",
       "3120             0               0               0                 0  \n",
       "3121             0               0               0                 0  \n",
       "3122             0               0               0                 0  \n",
       "\n",
       "[3123 rows x 27 columns]"
      ]
     },
     "execution_count": 57,
     "metadata": {},
     "output_type": "execute_result"
    }
   ],
   "source": [
    "review_dataframe_mega"
   ]
  },
  {
   "cell_type": "markdown",
   "metadata": {},
   "source": [
    "#for whatever reason the reveiw id is not unique lenght wise : pls see if this can be done nicer"
   ]
  },
  {
   "cell_type": "markdown",
   "metadata": {},
   "source": [
    "Apologies for the multiple ifs, pls see if these can be done more efficiently "
   ]
  },
  {
   "cell_type": "markdown",
   "metadata": {},
   "source": [
    "### Approach "
   ]
  },
  {
   "cell_type": "markdown",
   "metadata": {},
   "source": [
    "1) Make this a general function that takes product url as inout and give the review dataframe as output \n"
   ]
  },
  {
   "cell_type": "markdown",
   "metadata": {},
   "source": [
    "2) scrape reviewer_link_RM and get that data"
   ]
  }
 ],
 "metadata": {
  "hide_input": false,
  "kernelspec": {
   "display_name": "Python 3",
   "language": "python",
   "name": "python3"
  },
  "language_info": {
   "codemirror_mode": {
    "name": "ipython",
    "version": 3
   },
   "file_extension": ".py",
   "mimetype": "text/x-python",
   "name": "python",
   "nbconvert_exporter": "python",
   "pygments_lexer": "ipython3",
   "version": "3.7.3"
  },
  "toc": {
   "base_numbering": 1,
   "nav_menu": {},
   "number_sections": true,
   "sideBar": true,
   "skip_h1_title": false,
   "title_cell": "Table of Contents",
   "title_sidebar": "Contents",
   "toc_cell": false,
   "toc_position": {},
   "toc_section_display": true,
   "toc_window_display": false
  },
  "varInspector": {
   "cols": {
    "lenName": 16,
    "lenType": 16,
    "lenVar": 40
   },
   "kernels_config": {
    "python": {
     "delete_cmd_postfix": "",
     "delete_cmd_prefix": "del ",
     "library": "var_list.py",
     "varRefreshCmd": "print(var_dic_list())"
    },
    "r": {
     "delete_cmd_postfix": ") ",
     "delete_cmd_prefix": "rm(",
     "library": "var_list.r",
     "varRefreshCmd": "cat(var_dic_list()) "
    }
   },
   "types_to_exclude": [
    "module",
    "function",
    "builtin_function_or_method",
    "instance",
    "_Feature"
   ],
   "window_display": false
  }
 },
 "nbformat": 4,
 "nbformat_minor": 2
}
