{
 "cells": [
  {
   "cell_type": "markdown",
   "metadata": {},
   "source": [
    "Look at reviewer's history and counts the number of times they have reviewed other products by this same brand. Can be inputted as 1 if true. Can also be classified similar to RM: Brand Repeaters, Brand Loyalists and Brand Monogamists based on extremity.\n",
    "\n",
    "1. **Brand Repeaters** have reviewed more than one product by this brand.\n",
    "2. **Brand Loyalists** have written multiple reviews, of which 50% or more are for this brand.\n",
    "3. **Brand Monogamists** have reviewed multiple products but all of them are for this brand."
   ]
  },
  {
   "cell_type": "markdown",
   "metadata": {},
   "source": [
    "---"
   ]
  },
  {
   "cell_type": "markdown",
   "metadata": {},
   "source": [
    "\\*This code was originally placed in the notebook 'Review_Score_Feature_Engineering.ipynb' and under the Profile-related features session"
   ]
  },
  {
   "cell_type": "code",
   "execution_count": null,
   "metadata": {},
   "outputs": [],
   "source": [
    "# generating new columns: one reviewer one row\n",
    "pos = 0\n",
    "for i in tqdm(range(0,len(profile_urls_useful))):\n",
    "    try:\n",
    "        tag0 = soup[i].find_all('div', class_='dashboard-desktop-stat-value')[0] \n",
    "        profile_urls_useful.loc[i,'helpful_votes'] = tag0.find('span', class_='a-size-large a-color-base').get_text() \n",
    "\n",
    "        for tag in soup[i].find_all('div', class_='a-row a-spacing-none name-container'):    \n",
    "            profile_urls_useful.loc[i,'name'] = tag.find('span', class_='a-size-extra-large').get_text() \n",
    "\n",
    "        tag1 = soup[i].find_all('div', class_='dashboard-desktop-stat-value')[1]    \n",
    "        profile_urls_useful.loc[i,'num_of_reviews'] = int(tag1.find('span', class_='a-size-large a-color-base').get_text())\n",
    "        \n",
    "        profile_urls_useful.loc[i,'num_of_reviews_count'] = len(soup[i].find_all('div', class_='a-section profile-at-content'))\n",
    "\n",
    "        review_titles = soup[i].find_all(\"div\", class_ = \\\n",
    "            \"a-section profile-at-product-title-container profile-at-product-box-element\")\n",
    "        for title in range(0, len(review_titles)):\n",
    "            if re.search(r\"PetSafe\", review_titles[title].text) is not None:\n",
    "                count_of_brands += 1\n",
    "        if count_of_brands > 1: \n",
    "            profile_urls_useful.loc[i, 'Brand_repeater'] = 1\n",
    "        if count_of_brands > len(review_titles)*0.5:\n",
    "            profile_urls_useful.loc[i, 'Brand_Loyalist'] = 1\n",
    "        if count_of_brands == len(review_titles):\n",
    "            profile_urls_useful.loc[i, 'Brand_Monogamist'] = 1\n",
    "        \n",
    "    except:\n",
    "        print(i)"
   ]
  }
 ],
 "metadata": {
  "hide_input": false,
  "kernelspec": {
   "display_name": "Python 3",
   "language": "python",
   "name": "python3"
  },
  "language_info": {
   "codemirror_mode": {
    "name": "ipython",
    "version": 3
   },
   "file_extension": ".py",
   "mimetype": "text/x-python",
   "name": "python",
   "nbconvert_exporter": "python",
   "pygments_lexer": "ipython3",
   "version": "3.7.3"
  },
  "toc": {
   "base_numbering": 1,
   "nav_menu": {},
   "number_sections": true,
   "sideBar": true,
   "skip_h1_title": false,
   "title_cell": "Table of Contents",
   "title_sidebar": "Contents",
   "toc_cell": false,
   "toc_position": {},
   "toc_section_display": true,
   "toc_window_display": false
  },
  "varInspector": {
   "cols": {
    "lenName": 16,
    "lenType": 16,
    "lenVar": 40
   },
   "kernels_config": {
    "python": {
     "delete_cmd_postfix": "",
     "delete_cmd_prefix": "del ",
     "library": "var_list.py",
     "varRefreshCmd": "print(var_dic_list())"
    },
    "r": {
     "delete_cmd_postfix": ") ",
     "delete_cmd_prefix": "rm(",
     "library": "var_list.r",
     "varRefreshCmd": "cat(var_dic_list()) "
    }
   },
   "types_to_exclude": [
    "module",
    "function",
    "builtin_function_or_method",
    "instance",
    "_Feature"
   ],
   "window_display": false
  }
 },
 "nbformat": 4,
 "nbformat_minor": 2
}
