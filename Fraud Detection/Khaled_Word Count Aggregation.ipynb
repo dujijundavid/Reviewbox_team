{
 "cells": [
  {
   "cell_type": "markdown",
   "metadata": {},
   "source": []
  },
  {
   "cell_type": "markdown",
   "metadata": {},
   "source": [
    "To build our word count distribution, we start by putting every single review for a product into a “word count group”.  For example, a 23 word review would fall into the “21-25 word count group”, a 109 word review would fall into the “101-125 word count group”, and a 600 word review would fall into the “201+ word count group”.  This gives us the product’s word count distribution.  But just a product’s  word count distribution doesn’t really tell us that much: we need something to compare it to. That is why we grab the word count distribution for all of the reviews in the products category (category2) to get the expected word count distribution.  \n",
    "\n",
    "Once we have the word count distribution of the product and the expected distribution of the category we compare the two distributions and identify product word count groups that are higher in concentration than we’d expect to see. For each of the larger groups we run a significance test to ensure that it isn’t due to random chance or lack of data points but rather that they are substantially overrepresented. If a product doesn’t have that many reviews, we are likely to see more variance due to random chance.  However, if our formula determines the difference is statistically significant, we’ll label that group as an Overrepresented Word Count Group."
   ]
  },
  {
   "cell_type": "code",
   "execution_count": 1,
   "metadata": {},
   "outputs": [],
   "source": [
    "#Import neccessary packages\n",
    "import pandas as pd\n",
    "import numpy as np\n",
    "import matplotlib.pyplot as plt\n",
    "%matplotlib inline"
   ]
  },
  {
   "cell_type": "code",
   "execution_count": 2,
   "metadata": {},
   "outputs": [],
   "source": [
    "# #Load the review dataset\n",
    "# reviews = pd.read_csv(\"RSC reviews with profile ids.csv\")\n",
    "# # Load the sales dataset\n",
    "# sales = pd.read_csv(\"SalesRankExport_f0337c16-d7f3-4fc0-a46b-a0e14f18b595.csv\")\n",
    "# # Extract only columns of interest\n",
    "# \n",
    "# #Take only the unique product id\n",
    "# \n",
    "\n",
    "# #Now let's compile the two dataframes to identify the category of each product in the reviews dataset\n",
    "# compiled = pd.merge(reviews,sales, how = 'inner', left_on = \"product\", right_on=\"id\")\n",
    "\n",
    "# compiled.to_csv(\"RSC_reviews_with_category.csv\")\n",
    "#sales = pd.read_csv(\"SalesRankExport_f0337c16-d7f3-4fc0-a46b-a0e14f18b595.csv\")\n",
    "# sales = sales[['id','category_id2']]\n",
    "# sales = sales.drop_duplicates('id')  #shape(2525,2)\n",
    "# sales.to_csv(\"Sales.csv\")"
   ]
  },
  {
   "cell_type": "code",
   "execution_count": 22,
   "metadata": {},
   "outputs": [],
   "source": []
  },
  {
   "cell_type": "markdown",
   "metadata": {},
   "source": [
    "## Word Count Comparison\n",
    "\n",
    "### Objective: comparing the word count of the individual products with the word count of this category level\n",
    "### Khaled's outline\n",
    "1. filter columns\n",
    "2. create total_word metrics\n",
    "3. cut word bins with ranges\n",
    "4. Aggregate across products\n",
    "5. Merge product and category\n",
    "6. Merge by joining it on category_id\n",
    "\n",
    "### No change at all"
   ]
  },
  {
   "cell_type": "code",
   "execution_count": 4,
   "metadata": {},
   "outputs": [],
   "source": [
    "# Filter column of interest\n",
    "df= pd.read_csv(\"RSC_reviews_with_category.csv\")\n",
    "sales = pd.read_csv(\"Sales.csv\")\n",
    "df = df[['product','text','category_id2']]\n",
    "\n",
    "\n",
    "#Let's create the word count column\n",
    "df['totalwords'] = df['text'].str.split().str.len()\n",
    "\n",
    "#Create word bins with appropriate ranges\n",
    "df['word_bins'] = pd.cut(x=df['totalwords'], bins=[0, 5, 15, 25, 40, 65, 100, 200, 100000])\n",
    "df['word_bins'] = pd.cut(x=df['totalwords'], bins=[0, 5, 15, 25, 40, 65, 100, 200, 100000], labels=['0 - 5 words', '6 - 15 words', '16 - 25 words', '26 - 40 words', '41 - 65 words', '66 - 100 words', '101 - 200 words','200+'])\n",
    "\n",
    "# Create a dataframe to aggregate word bins across products & categories\n",
    "# Normalize to get proportions\n",
    "product_aggregation = pd.crosstab(df[\"product\"], df[\"word_bins\"], margins=True, normalize='index')\n",
    "category_aggregation = pd.crosstab(df[\"category_id2\"], df[\"word_bins\"], margins=True, normalize='index')\n",
    "\n",
    "\n",
    "# Merge the two features table together\n",
    "product_aggregation = pd.merge(product_aggregation,sales, how = 'inner', left_on = \"product\", right_on=\"id\")\n",
    "product_aggregation = pd.merge(product_aggregation,category_aggregation, how = 'inner', left_on = \"category_id2\", right_on=\"category_id2\")\n",
    "\n",
    "#product_aggregation.to_csv(\"Word_count_features.csv\")"
   ]
  },
  {
   "cell_type": "code",
   "execution_count": null,
   "metadata": {},
   "outputs": [],
   "source": []
  }
 ],
 "metadata": {
  "hide_input": false,
  "kernelspec": {
   "display_name": "Python 3",
   "language": "python",
   "name": "python3"
  },
  "language_info": {
   "codemirror_mode": {
    "name": "ipython",
    "version": 3
   },
   "file_extension": ".py",
   "mimetype": "text/x-python",
   "name": "python",
   "nbconvert_exporter": "python",
   "pygments_lexer": "ipython3",
   "version": "3.7.4"
  },
  "toc": {
   "base_numbering": 1,
   "nav_menu": {},
   "number_sections": true,
   "sideBar": true,
   "skip_h1_title": false,
   "title_cell": "Table of Contents",
   "title_sidebar": "Contents",
   "toc_cell": false,
   "toc_position": {},
   "toc_section_display": true,
   "toc_window_display": true
  },
  "varInspector": {
   "cols": {
    "lenName": 16,
    "lenType": 16,
    "lenVar": 40
   },
   "kernels_config": {
    "python": {
     "delete_cmd_postfix": "",
     "delete_cmd_prefix": "del ",
     "library": "var_list.py",
     "varRefreshCmd": "print(var_dic_list())"
    },
    "r": {
     "delete_cmd_postfix": ") ",
     "delete_cmd_prefix": "rm(",
     "library": "var_list.r",
     "varRefreshCmd": "cat(var_dic_list()) "
    }
   },
   "types_to_exclude": [
    "module",
    "function",
    "builtin_function_or_method",
    "instance",
    "_Feature"
   ],
   "window_display": false
  }
 },
 "nbformat": 4,
 "nbformat_minor": 2
}
