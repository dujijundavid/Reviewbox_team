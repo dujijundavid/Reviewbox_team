{
 "cells": [
  {
   "cell_type": "code",
   "execution_count": null,
   "metadata": {},
   "outputs": [],
   "source": [
    "import pandas as pd\n",
    "import numpy as np\n",
    "import matplotlib.pyplot as plt\n",
    "import seaborn as sns\n",
    "%matplotlib \n"
   ]
  },
  {
   "cell_type": "markdown",
   "metadata": {},
   "source": [
    "### Outline\n",
    "1. datetime conversion\n",
    "2. \n"
   ]
  },
  {
   "cell_type": "code",
   "execution_count": null,
   "metadata": {},
   "outputs": [],
   "source": [
    "#rsc_rev = pd.read_csv(\"RSC reviews.csv\")\n",
    "rsc_rev = pd.read_csv(\"RSC_reviews_with_category.csv\")\n",
    "\n",
    "# Feature engineering\n",
    "rsc_rev['date'] = pd.to_datetime(rsc_rev['date'])\n",
    "\n",
    "#filtering NANs for verified\n",
    "rsc_rev_verified = rsc_rev[~rsc_rev['verified'].isna()]\n",
    "rsc_rev_verified['verified'] = rsc_rev_verified['verified'].map({True: 1, False: 0})\n",
    "\n",
    "# Set date to 2019\n",
    "#rsc_rev = rsc_rev[rsc_rev['date'].dt.year == 2019];\n"
   ]
  },
  {
   "cell_type": "code",
   "execution_count": null,
   "metadata": {},
   "outputs": [],
   "source": [
    "\n",
    "parameter = 'stars'\n",
    "def aggregrate_year(rsc_rev,parameter):\n",
    "    average_per_product = rsc_rev.groupby('product')[parameter].mean()\n",
    "    return average_per_product\n",
    "\n",
    "def aggregate_last_3months(rsc_rev,parameter):\n",
    "    trend_per_product = rsc_rev.set_index('date').groupby('product').resample('M')[parameter].mean()\n",
    "    # Why use resample here?\n",
    "\n",
    "    trend_per_product=trend_per_product.reset_index()\n",
    "    trend_per_product=trend_per_product.sort_values([\"product\",\"date\"], ascending=False)\n",
    "   # print(trend_per_product.head())\n",
    "    trend_per_product_top3 = trend_per_product.groupby(\"product\").head(3).groupby(\"product\").agg({parameter:\"mean\", \"date\":\"count\"})\n",
    "    return trend_per_product_top3\n",
    "\n"
   ]
  },
  {
   "cell_type": "code",
   "execution_count": null,
   "metadata": {},
   "outputs": [],
   "source": [
    "aggregate_last_3months(rsc_rev_verified,\"verified\")"
   ]
  },
  {
   "cell_type": "code",
   "execution_count": null,
   "metadata": {},
   "outputs": [],
   "source": [
    "aggregate_last_3months(rsc_rev,\"stars\")"
   ]
  },
  {
   "cell_type": "code",
   "execution_count": null,
   "metadata": {},
   "outputs": [],
   "source": [
    "\n",
    "stars_review = rsc_rev.groupby('product')[['stars']].count()\n",
    "\n",
    "star_df = rsc_rev[['product','stars']]\n",
    "stars_count = pd.crosstab(star_df['product'], star_df['stars'])\n",
    "stars_count[\"5/1 ratio\"]=stars_count[5]/stars_count[1]"
   ]
  },
  {
   "cell_type": "code",
   "execution_count": null,
   "metadata": {},
   "outputs": [],
   "source": []
  },
  {
   "cell_type": "code",
   "execution_count": null,
   "metadata": {},
   "outputs": [],
   "source": []
  }
 ],
 "metadata": {
  "hide_input": false,
  "kernelspec": {
   "display_name": "Python 3",
   "language": "python",
   "name": "python3"
  },
  "language_info": {
   "codemirror_mode": {
    "name": "ipython",
    "version": 3
   },
   "file_extension": ".py",
   "mimetype": "text/x-python",
   "name": "python",
   "nbconvert_exporter": "python",
   "pygments_lexer": "ipython3",
   "version": "3.7.4"
  },
  "toc": {
   "base_numbering": 1,
   "nav_menu": {},
   "number_sections": true,
   "sideBar": true,
   "skip_h1_title": false,
   "title_cell": "Table of Contents",
   "title_sidebar": "Contents",
   "toc_cell": false,
   "toc_position": {},
   "toc_section_display": true,
   "toc_window_display": false
  },
  "varInspector": {
   "cols": {
    "lenName": 16,
    "lenType": 16,
    "lenVar": 40
   },
   "kernels_config": {
    "python": {
     "delete_cmd_postfix": "",
     "delete_cmd_prefix": "del ",
     "library": "var_list.py",
     "varRefreshCmd": "print(var_dic_list())"
    },
    "r": {
     "delete_cmd_postfix": ") ",
     "delete_cmd_prefix": "rm(",
     "library": "var_list.r",
     "varRefreshCmd": "cat(var_dic_list()) "
    }
   },
   "types_to_exclude": [
    "module",
    "function",
    "builtin_function_or_method",
    "instance",
    "_Feature"
   ],
   "window_display": false
  }
 },
 "nbformat": 4,
 "nbformat_minor": 2
}
